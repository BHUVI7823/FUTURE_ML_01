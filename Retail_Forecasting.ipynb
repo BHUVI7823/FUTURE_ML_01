{
  "nbformat": 4,
  "nbformat_minor": 0,
  "metadata": {
    "colab": {
      "provenance": []
    },
    "kernelspec": {
      "name": "python3",
      "display_name": "Python 3"
    },
    "language_info": {
      "name": "python"
    }
  },
  "cells": [
    {
      "cell_type": "code",
      "execution_count": null,
      "metadata": {
        "colab": {
          "base_uri": "https://localhost:8080/"
        },
        "id": "WfKiRHlLfY5N",
        "outputId": "b4fa255b-17b5-4dfd-c7af-8d10931f8a2f"
      },
      "outputs": [
        {
          "output_type": "stream",
          "name": "stdout",
          "text": [
            "Requirement already satisfied: prophet in /usr/local/lib/python3.11/dist-packages (1.1.7)\n",
            "Requirement already satisfied: cmdstanpy>=1.0.4 in /usr/local/lib/python3.11/dist-packages (from prophet) (1.2.5)\n",
            "Requirement already satisfied: numpy>=1.15.4 in /usr/local/lib/python3.11/dist-packages (from prophet) (2.0.2)\n",
            "Requirement already satisfied: matplotlib>=2.0.0 in /usr/local/lib/python3.11/dist-packages (from prophet) (3.10.0)\n",
            "Requirement already satisfied: pandas>=1.0.4 in /usr/local/lib/python3.11/dist-packages (from prophet) (2.2.2)\n",
            "Requirement already satisfied: holidays<1,>=0.25 in /usr/local/lib/python3.11/dist-packages (from prophet) (0.76)\n",
            "Requirement already satisfied: tqdm>=4.36.1 in /usr/local/lib/python3.11/dist-packages (from prophet) (4.67.1)\n",
            "Requirement already satisfied: importlib_resources in /usr/local/lib/python3.11/dist-packages (from prophet) (6.5.2)\n",
            "Requirement already satisfied: stanio<2.0.0,>=0.4.0 in /usr/local/lib/python3.11/dist-packages (from cmdstanpy>=1.0.4->prophet) (0.5.1)\n",
            "Requirement already satisfied: python-dateutil in /usr/local/lib/python3.11/dist-packages (from holidays<1,>=0.25->prophet) (2.9.0.post0)\n",
            "Requirement already satisfied: contourpy>=1.0.1 in /usr/local/lib/python3.11/dist-packages (from matplotlib>=2.0.0->prophet) (1.3.2)\n",
            "Requirement already satisfied: cycler>=0.10 in /usr/local/lib/python3.11/dist-packages (from matplotlib>=2.0.0->prophet) (0.12.1)\n",
            "Requirement already satisfied: fonttools>=4.22.0 in /usr/local/lib/python3.11/dist-packages (from matplotlib>=2.0.0->prophet) (4.58.5)\n",
            "Requirement already satisfied: kiwisolver>=1.3.1 in /usr/local/lib/python3.11/dist-packages (from matplotlib>=2.0.0->prophet) (1.4.8)\n",
            "Requirement already satisfied: packaging>=20.0 in /usr/local/lib/python3.11/dist-packages (from matplotlib>=2.0.0->prophet) (24.2)\n",
            "Requirement already satisfied: pillow>=8 in /usr/local/lib/python3.11/dist-packages (from matplotlib>=2.0.0->prophet) (11.2.1)\n",
            "Requirement already satisfied: pyparsing>=2.3.1 in /usr/local/lib/python3.11/dist-packages (from matplotlib>=2.0.0->prophet) (3.2.3)\n",
            "Requirement already satisfied: pytz>=2020.1 in /usr/local/lib/python3.11/dist-packages (from pandas>=1.0.4->prophet) (2025.2)\n",
            "Requirement already satisfied: tzdata>=2022.7 in /usr/local/lib/python3.11/dist-packages (from pandas>=1.0.4->prophet) (2025.2)\n",
            "Requirement already satisfied: six>=1.5 in /usr/local/lib/python3.11/dist-packages (from python-dateutil->holidays<1,>=0.25->prophet) (1.17.0)\n"
          ]
        }
      ],
      "source": [
        "!pip install prophet"
      ]
    },
    {
      "cell_type": "code",
      "source": [
        "!pip install prophet"
      ],
      "metadata": {
        "colab": {
          "base_uri": "https://localhost:8080/"
        },
        "id": "mX6extMqf4lJ",
        "outputId": "33f8d58b-d508-43d3-88af-2863d40d04da"
      },
      "execution_count": null,
      "outputs": [
        {
          "output_type": "stream",
          "name": "stdout",
          "text": [
            "Requirement already satisfied: prophet in /usr/local/lib/python3.11/dist-packages (1.1.7)\n",
            "Requirement already satisfied: cmdstanpy>=1.0.4 in /usr/local/lib/python3.11/dist-packages (from prophet) (1.2.5)\n",
            "Requirement already satisfied: numpy>=1.15.4 in /usr/local/lib/python3.11/dist-packages (from prophet) (2.0.2)\n",
            "Requirement already satisfied: matplotlib>=2.0.0 in /usr/local/lib/python3.11/dist-packages (from prophet) (3.10.0)\n",
            "Requirement already satisfied: pandas>=1.0.4 in /usr/local/lib/python3.11/dist-packages (from prophet) (2.2.2)\n",
            "Requirement already satisfied: holidays<1,>=0.25 in /usr/local/lib/python3.11/dist-packages (from prophet) (0.76)\n",
            "Requirement already satisfied: tqdm>=4.36.1 in /usr/local/lib/python3.11/dist-packages (from prophet) (4.67.1)\n",
            "Requirement already satisfied: importlib_resources in /usr/local/lib/python3.11/dist-packages (from prophet) (6.5.2)\n",
            "Requirement already satisfied: stanio<2.0.0,>=0.4.0 in /usr/local/lib/python3.11/dist-packages (from cmdstanpy>=1.0.4->prophet) (0.5.1)\n",
            "Requirement already satisfied: python-dateutil in /usr/local/lib/python3.11/dist-packages (from holidays<1,>=0.25->prophet) (2.9.0.post0)\n",
            "Requirement already satisfied: contourpy>=1.0.1 in /usr/local/lib/python3.11/dist-packages (from matplotlib>=2.0.0->prophet) (1.3.2)\n",
            "Requirement already satisfied: cycler>=0.10 in /usr/local/lib/python3.11/dist-packages (from matplotlib>=2.0.0->prophet) (0.12.1)\n",
            "Requirement already satisfied: fonttools>=4.22.0 in /usr/local/lib/python3.11/dist-packages (from matplotlib>=2.0.0->prophet) (4.58.5)\n",
            "Requirement already satisfied: kiwisolver>=1.3.1 in /usr/local/lib/python3.11/dist-packages (from matplotlib>=2.0.0->prophet) (1.4.8)\n",
            "Requirement already satisfied: packaging>=20.0 in /usr/local/lib/python3.11/dist-packages (from matplotlib>=2.0.0->prophet) (24.2)\n",
            "Requirement already satisfied: pillow>=8 in /usr/local/lib/python3.11/dist-packages (from matplotlib>=2.0.0->prophet) (11.2.1)\n",
            "Requirement already satisfied: pyparsing>=2.3.1 in /usr/local/lib/python3.11/dist-packages (from matplotlib>=2.0.0->prophet) (3.2.3)\n",
            "Requirement already satisfied: pytz>=2020.1 in /usr/local/lib/python3.11/dist-packages (from pandas>=1.0.4->prophet) (2025.2)\n",
            "Requirement already satisfied: tzdata>=2022.7 in /usr/local/lib/python3.11/dist-packages (from pandas>=1.0.4->prophet) (2025.2)\n",
            "Requirement already satisfied: six>=1.5 in /usr/local/lib/python3.11/dist-packages (from python-dateutil->holidays<1,>=0.25->prophet) (1.17.0)\n"
          ]
        }
      ]
    },
    {
      "cell_type": "code",
      "source": [
        "from google.colab import drive\n",
        "drive.mount('/content/drive')"
      ],
      "metadata": {
        "colab": {
          "base_uri": "https://localhost:8080/"
        },
        "id": "GNdC0lBfgD4d",
        "outputId": "449565b9-489e-41db-c4a8-42c4527e1673"
      },
      "execution_count": null,
      "outputs": [
        {
          "output_type": "stream",
          "name": "stdout",
          "text": [
            "Mounted at /content/drive\n"
          ]
        }
      ]
    },
    {
      "cell_type": "code",
      "source": [
        "import pandas as pd\n",
        "\n",
        "# Load the dataset (adjust filename if needed)\n",
        "df = pd.read_csv('/content/drive/My Drive/SuperstoreProject/train.csv')  # Use Superstore.csv if that’s the filename\n",
        "\n",
        "# Preview the data\n",
        "print(df.head())\n",
        "print(df.info())\n",
        "print(df.isnull().sum())\n"
      ],
      "metadata": {
        "colab": {
          "base_uri": "https://localhost:8080/"
        },
        "id": "qzlb7MTggFAk",
        "outputId": "f0f1fa5b-5e7d-4688-e710-1dab768e6b21"
      },
      "execution_count": null,
      "outputs": [
        {
          "output_type": "stream",
          "name": "stdout",
          "text": [
            "   Row ID        Order ID  Order Date   Ship Date       Ship Mode Customer ID  \\\n",
            "0       1  CA-2017-152156  08/11/2017  11/11/2017    Second Class    CG-12520   \n",
            "1       2  CA-2017-152156  08/11/2017  11/11/2017    Second Class    CG-12520   \n",
            "2       3  CA-2017-138688  12/06/2017  16/06/2017    Second Class    DV-13045   \n",
            "3       4  US-2016-108966  11/10/2016  18/10/2016  Standard Class    SO-20335   \n",
            "4       5  US-2016-108966  11/10/2016  18/10/2016  Standard Class    SO-20335   \n",
            "\n",
            "     Customer Name    Segment        Country             City       State  \\\n",
            "0      Claire Gute   Consumer  United States        Henderson    Kentucky   \n",
            "1      Claire Gute   Consumer  United States        Henderson    Kentucky   \n",
            "2  Darrin Van Huff  Corporate  United States      Los Angeles  California   \n",
            "3   Sean O'Donnell   Consumer  United States  Fort Lauderdale     Florida   \n",
            "4   Sean O'Donnell   Consumer  United States  Fort Lauderdale     Florida   \n",
            "\n",
            "   Postal Code Region       Product ID         Category Sub-Category  \\\n",
            "0      42420.0  South  FUR-BO-10001798        Furniture    Bookcases   \n",
            "1      42420.0  South  FUR-CH-10000454        Furniture       Chairs   \n",
            "2      90036.0   West  OFF-LA-10000240  Office Supplies       Labels   \n",
            "3      33311.0  South  FUR-TA-10000577        Furniture       Tables   \n",
            "4      33311.0  South  OFF-ST-10000760  Office Supplies      Storage   \n",
            "\n",
            "                                        Product Name     Sales  \n",
            "0                  Bush Somerset Collection Bookcase  261.9600  \n",
            "1  Hon Deluxe Fabric Upholstered Stacking Chairs,...  731.9400  \n",
            "2  Self-Adhesive Address Labels for Typewriters b...   14.6200  \n",
            "3      Bretford CR4500 Series Slim Rectangular Table  957.5775  \n",
            "4                     Eldon Fold 'N Roll Cart System   22.3680  \n",
            "<class 'pandas.core.frame.DataFrame'>\n",
            "RangeIndex: 9800 entries, 0 to 9799\n",
            "Data columns (total 18 columns):\n",
            " #   Column         Non-Null Count  Dtype  \n",
            "---  ------         --------------  -----  \n",
            " 0   Row ID         9800 non-null   int64  \n",
            " 1   Order ID       9800 non-null   object \n",
            " 2   Order Date     9800 non-null   object \n",
            " 3   Ship Date      9800 non-null   object \n",
            " 4   Ship Mode      9800 non-null   object \n",
            " 5   Customer ID    9800 non-null   object \n",
            " 6   Customer Name  9800 non-null   object \n",
            " 7   Segment        9800 non-null   object \n",
            " 8   Country        9800 non-null   object \n",
            " 9   City           9800 non-null   object \n",
            " 10  State          9800 non-null   object \n",
            " 11  Postal Code    9789 non-null   float64\n",
            " 12  Region         9800 non-null   object \n",
            " 13  Product ID     9800 non-null   object \n",
            " 14  Category       9800 non-null   object \n",
            " 15  Sub-Category   9800 non-null   object \n",
            " 16  Product Name   9800 non-null   object \n",
            " 17  Sales          9800 non-null   float64\n",
            "dtypes: float64(2), int64(1), object(15)\n",
            "memory usage: 1.3+ MB\n",
            "None\n",
            "Row ID            0\n",
            "Order ID          0\n",
            "Order Date        0\n",
            "Ship Date         0\n",
            "Ship Mode         0\n",
            "Customer ID       0\n",
            "Customer Name     0\n",
            "Segment           0\n",
            "Country           0\n",
            "City              0\n",
            "State             0\n",
            "Postal Code      11\n",
            "Region            0\n",
            "Product ID        0\n",
            "Category          0\n",
            "Sub-Category      0\n",
            "Product Name      0\n",
            "Sales             0\n",
            "dtype: int64\n"
          ]
        }
      ]
    },
    {
      "cell_type": "code",
      "source": [
        "print(df.describe())"
      ],
      "metadata": {
        "colab": {
          "base_uri": "https://localhost:8080/"
        },
        "id": "LaWEq9oHin4W",
        "outputId": "2bb9fd70-99d0-4a95-9b13-ba761b9398c3"
      },
      "execution_count": null,
      "outputs": [
        {
          "output_type": "stream",
          "name": "stdout",
          "text": [
            "            Row ID   Postal Code         Sales\n",
            "count  9800.000000   9789.000000   9800.000000\n",
            "mean   4900.500000  55273.322403    230.769059\n",
            "std    2829.160653  32041.223413    626.651875\n",
            "min       1.000000   1040.000000      0.444000\n",
            "25%    2450.750000  23223.000000     17.248000\n",
            "50%    4900.500000  58103.000000     54.490000\n",
            "75%    7350.250000  90008.000000    210.605000\n",
            "max    9800.000000  99301.000000  22638.480000\n"
          ]
        }
      ]
    },
    {
      "cell_type": "code",
      "source": [
        "# Fill missing Postal Code with a placeholder (e.g., 0) or drop if not needed\n",
        "df['Postal Code'].fillna(0, inplace=True)  # Or df = df.dropna(subset=['Postal Code'])"
      ],
      "metadata": {
        "colab": {
          "base_uri": "https://localhost:8080/"
        },
        "id": "QhEy51vkjaV2",
        "outputId": "ca59127f-ecfa-499b-d038-fada2a5293c7"
      },
      "execution_count": null,
      "outputs": [
        {
          "output_type": "stream",
          "name": "stderr",
          "text": [
            "/tmp/ipython-input-5-32055299.py:2: FutureWarning: A value is trying to be set on a copy of a DataFrame or Series through chained assignment using an inplace method.\n",
            "The behavior will change in pandas 3.0. This inplace method will never work because the intermediate object on which we are setting values always behaves as a copy.\n",
            "\n",
            "For example, when doing 'df[col].method(value, inplace=True)', try using 'df.method({col: value}, inplace=True)' or df[col] = df[col].method(value) instead, to perform the operation inplace on the original object.\n",
            "\n",
            "\n",
            "  df['Postal Code'].fillna(0, inplace=True)  # Or df = df.dropna(subset=['Postal Code'])\n"
          ]
        }
      ]
    },
    {
      "cell_type": "markdown",
      "source": [
        "Verify no other critical columns (e.g., Sales, Order Date) have missing values:"
      ],
      "metadata": {
        "id": "X6Cf2M1Fjiuc"
      }
    },
    {
      "cell_type": "code",
      "source": [
        "print(df[['Sales', 'Order Date']].isnull().sum())"
      ],
      "metadata": {
        "colab": {
          "base_uri": "https://localhost:8080/"
        },
        "id": "ni771PXEjfzL",
        "outputId": "efb3c4e1-483b-4a51-8b1f-ef4bbeaf82ea"
      },
      "execution_count": null,
      "outputs": [
        {
          "output_type": "stream",
          "name": "stdout",
          "text": [
            "Sales         0\n",
            "Order Date    0\n",
            "dtype: int64\n"
          ]
        }
      ]
    },
    {
      "cell_type": "markdown",
      "source": [
        "Ensure Order Date is in datetime format for time series analysis"
      ],
      "metadata": {
        "id": "-BAPq4nmj7a3"
      }
    },
    {
      "cell_type": "code",
      "source": [
        "import pandas as pd\n",
        "\n",
        "# Load the dataset again to ensure a clean start\n",
        "df = pd.read_csv('/content/drive/My Drive/SuperstoreProject/train.csv')  # Adjust filename if needed, e.g., Superstore.csv\n",
        "\n",
        "# Convert Order Date with the correct format\n",
        "df['Order Date'] = pd.to_datetime(df['Order Date'], format='%d/%m/%Y', errors='coerce')\n",
        "print(df['Order Date'].head())\n",
        "print(df['Order Date'].isnull().sum())\n",
        "print(df[df['Order Date'].isnull()])\n",
        "df = df.dropna(subset=['Order Date'])\n",
        "print(df.info())"
      ],
      "metadata": {
        "colab": {
          "base_uri": "https://localhost:8080/"
        },
        "id": "lTNX7fv3j3Xb",
        "outputId": "5dae9e2f-cd10-4513-b58c-8bd993809129"
      },
      "execution_count": null,
      "outputs": [
        {
          "output_type": "stream",
          "name": "stdout",
          "text": [
            "0   2017-11-08\n",
            "1   2017-11-08\n",
            "2   2017-06-12\n",
            "3   2016-10-11\n",
            "4   2016-10-11\n",
            "Name: Order Date, dtype: datetime64[ns]\n",
            "0\n",
            "Empty DataFrame\n",
            "Columns: [Row ID, Order ID, Order Date, Ship Date, Ship Mode, Customer ID, Customer Name, Segment, Country, City, State, Postal Code, Region, Product ID, Category, Sub-Category, Product Name, Sales]\n",
            "Index: []\n",
            "<class 'pandas.core.frame.DataFrame'>\n",
            "RangeIndex: 9800 entries, 0 to 9799\n",
            "Data columns (total 18 columns):\n",
            " #   Column         Non-Null Count  Dtype         \n",
            "---  ------         --------------  -----         \n",
            " 0   Row ID         9800 non-null   int64         \n",
            " 1   Order ID       9800 non-null   object        \n",
            " 2   Order Date     9800 non-null   datetime64[ns]\n",
            " 3   Ship Date      9800 non-null   object        \n",
            " 4   Ship Mode      9800 non-null   object        \n",
            " 5   Customer ID    9800 non-null   object        \n",
            " 6   Customer Name  9800 non-null   object        \n",
            " 7   Segment        9800 non-null   object        \n",
            " 8   Country        9800 non-null   object        \n",
            " 9   City           9800 non-null   object        \n",
            " 10  State          9800 non-null   object        \n",
            " 11  Postal Code    9789 non-null   float64       \n",
            " 12  Region         9800 non-null   object        \n",
            " 13  Product ID     9800 non-null   object        \n",
            " 14  Category       9800 non-null   object        \n",
            " 15  Sub-Category   9800 non-null   object        \n",
            " 16  Product Name   9800 non-null   object        \n",
            " 17  Sales          9800 non-null   float64       \n",
            "dtypes: datetime64[ns](1), float64(2), int64(1), object(14)\n",
            "memory usage: 1.3+ MB\n",
            "None\n"
          ]
        }
      ]
    },
    {
      "cell_type": "markdown",
      "source": [
        "Check for and remove duplicate rows"
      ],
      "metadata": {
        "id": "D46UF9melIBa"
      }
    },
    {
      "cell_type": "code",
      "source": [
        "print(f\"Number of duplicates: {df.duplicated().sum()}\")\n",
        "df = df.drop_duplicates()"
      ],
      "metadata": {
        "colab": {
          "base_uri": "https://localhost:8080/"
        },
        "id": "FDctE9z7k-FN",
        "outputId": "01813bc4-ec8f-4a86-dbc3-37c7098eb857"
      },
      "execution_count": null,
      "outputs": [
        {
          "output_type": "stream",
          "name": "stdout",
          "text": [
            "Number of duplicates: 0\n"
          ]
        }
      ]
    },
    {
      "cell_type": "markdown",
      "source": [
        "Remove rows with zero or negative sales (e.g., returns or errors):"
      ],
      "metadata": {
        "id": "cWF_Xa8clOLQ"
      }
    },
    {
      "cell_type": "code",
      "source": [
        "df = df[df['Sales'] > 0]"
      ],
      "metadata": {
        "id": "ZDPAKOSLlPAn"
      },
      "execution_count": null,
      "outputs": []
    },
    {
      "cell_type": "markdown",
      "source": [
        "For forecasting with Prophet, aggregate sales by date (daily or monthly). Daily is suitable for Prophet"
      ],
      "metadata": {
        "id": "rmi_f7ImlXWm"
      }
    },
    {
      "cell_type": "code",
      "source": [
        "# Aggregate sales by Order Date\n",
        "daily_sales = df.groupby('Order Date')['Sales'].sum().reset_index()\n",
        "print(daily_sales.head())"
      ],
      "metadata": {
        "colab": {
          "base_uri": "https://localhost:8080/"
        },
        "id": "wt1ojUhYlWLm",
        "outputId": "28b5465a-eb86-4d73-b59d-c1ea0c999404"
      },
      "execution_count": null,
      "outputs": [
        {
          "output_type": "stream",
          "name": "stdout",
          "text": [
            "  Order Date     Sales\n",
            "0 2015-01-03    16.448\n",
            "1 2015-01-04   288.060\n",
            "2 2015-01-05    19.536\n",
            "3 2015-01-06  4407.100\n",
            "4 2015-01-07    87.158\n"
          ]
        }
      ]
    },
    {
      "cell_type": "markdown",
      "source": [
        "Export the aggregated dataset for forecasting"
      ],
      "metadata": {
        "id": "rejBzf3rlVt6"
      }
    },
    {
      "cell_type": "code",
      "source": [
        "daily_sales.to_csv('/content/drive/My Drive/SuperstoreProject/cleaned_superstore_data.csv', index=False)"
      ],
      "metadata": {
        "id": "DYocId_tlgtR"
      },
      "execution_count": null,
      "outputs": []
    },
    {
      "cell_type": "markdown",
      "source": [
        "Save the full cleaned dataset for Power BI (with all columns)"
      ],
      "metadata": {
        "id": "i_NJWVrGlpT8"
      }
    },
    {
      "cell_type": "code",
      "source": [
        "df.to_csv('/content/drive/My Drive/SuperstoreProject/full_cleaned_superstore_data.csv', index=False)"
      ],
      "metadata": {
        "id": "DQVNtqU8loT0"
      },
      "execution_count": null,
      "outputs": []
    },
    {
      "cell_type": "markdown",
      "source": [
        "Load both the full cleaned dataset (for dashboard features) and the aggregated daily sales data (for forecasting):"
      ],
      "metadata": {
        "id": "Z_cMUgJOmKSZ"
      }
    },
    {
      "cell_type": "code",
      "source": [
        "import pandas as pd\n",
        "\n",
        "# Load the full cleaned dataset\n",
        "df = pd.read_csv('/content/drive/My Drive/SuperstoreProject/full_cleaned_superstore_data.csv')\n",
        "# Ensure Order Date is datetime\n",
        "df['Order Date'] = pd.to_datetime(df['Order Date'], format='%d/%m/%Y', errors='coerce')\n",
        "\n",
        "# Load the aggregated daily sales dataset\n",
        "daily_sales = pd.read_csv('/content/drive/My Drive/SuperstoreProject/cleaned_superstore_data.csv')\n",
        "daily_sales['Order Date'] = pd.to_datetime(daily_sales['Order Date'], format='%d/%m/%Y', errors='coerce')\n",
        "\n",
        "# Preview both\n",
        "print(\"Full dataset:\")\n",
        "print(df.head())\n",
        "print(\"\\nDaily sales:\")\n",
        "print(daily_sales.head())\n",
        "\n"
      ],
      "metadata": {
        "colab": {
          "base_uri": "https://localhost:8080/"
        },
        "id": "ZbdlJp8GmOJq",
        "outputId": "6c9fe1b7-400e-46f6-9796-a87e01ba3ce6"
      },
      "execution_count": null,
      "outputs": [
        {
          "output_type": "stream",
          "name": "stdout",
          "text": [
            "Full dataset:\n",
            "   Row ID        Order ID Order Date   Ship Date       Ship Mode Customer ID  \\\n",
            "0       1  CA-2017-152156        NaT  11/11/2017    Second Class    CG-12520   \n",
            "1       2  CA-2017-152156        NaT  11/11/2017    Second Class    CG-12520   \n",
            "2       3  CA-2017-138688        NaT  16/06/2017    Second Class    DV-13045   \n",
            "3       4  US-2016-108966        NaT  18/10/2016  Standard Class    SO-20335   \n",
            "4       5  US-2016-108966        NaT  18/10/2016  Standard Class    SO-20335   \n",
            "\n",
            "     Customer Name    Segment        Country             City       State  \\\n",
            "0      Claire Gute   Consumer  United States        Henderson    Kentucky   \n",
            "1      Claire Gute   Consumer  United States        Henderson    Kentucky   \n",
            "2  Darrin Van Huff  Corporate  United States      Los Angeles  California   \n",
            "3   Sean O'Donnell   Consumer  United States  Fort Lauderdale     Florida   \n",
            "4   Sean O'Donnell   Consumer  United States  Fort Lauderdale     Florida   \n",
            "\n",
            "   Postal Code Region       Product ID         Category Sub-Category  \\\n",
            "0      42420.0  South  FUR-BO-10001798        Furniture    Bookcases   \n",
            "1      42420.0  South  FUR-CH-10000454        Furniture       Chairs   \n",
            "2      90036.0   West  OFF-LA-10000240  Office Supplies       Labels   \n",
            "3      33311.0  South  FUR-TA-10000577        Furniture       Tables   \n",
            "4      33311.0  South  OFF-ST-10000760  Office Supplies      Storage   \n",
            "\n",
            "                                        Product Name     Sales  \n",
            "0                  Bush Somerset Collection Bookcase  261.9600  \n",
            "1  Hon Deluxe Fabric Upholstered Stacking Chairs,...  731.9400  \n",
            "2  Self-Adhesive Address Labels for Typewriters b...   14.6200  \n",
            "3      Bretford CR4500 Series Slim Rectangular Table  957.5775  \n",
            "4                     Eldon Fold 'N Roll Cart System   22.3680  \n",
            "\n",
            "Daily sales:\n",
            "  Order Date     Sales\n",
            "0        NaT    16.448\n",
            "1        NaT   288.060\n",
            "2        NaT    19.536\n",
            "3        NaT  4407.100\n",
            "4        NaT    87.158\n"
          ]
        }
      ]
    },
    {
      "cell_type": "markdown",
      "source": [
        "Extract Date-Based Features:\n",
        "Add columns for year, month, day, and day of the week to both datasets to capture temporal patterns"
      ],
      "metadata": {
        "id": "6Q0fcOTOmaYm"
      }
    },
    {
      "cell_type": "code",
      "source": [
        "# For full dataset\n",
        "df['Year'] = df['Order Date'].dt.year\n",
        "df['Month'] = df['Order Date'].dt.month\n",
        "df['Day'] = df['Order Date'].dt.day\n",
        "df['DayOfWeek'] = df['Order Date'].dt.dayofweek  # Monday=0, Sunday=6\n",
        "\n",
        "# For daily sales dataset\n",
        "daily_sales['Year'] = daily_sales['Order Date'].dt.year\n",
        "daily_sales['Month'] = daily_sales['Order Date'].dt.month\n",
        "daily_sales['Day'] = daily_sales['Order Date'].dt.day\n",
        "daily_sales['DayOfWeek'] = daily_sales['Order Date'].dt.dayofweek\n",
        "\n",
        "# Preview\n",
        "print(df[['Order Date', 'Year', 'Month', 'Day', 'DayOfWeek']].head())\n",
        "print(daily_sales[['Order Date', 'Year', 'Month', 'Day', 'DayOfWeek']].head())"
      ],
      "metadata": {
        "colab": {
          "base_uri": "https://localhost:8080/"
        },
        "id": "ayiOPP2Wmd2n",
        "outputId": "5f1397d3-cee6-42e5-f68f-4b13b6445094"
      },
      "execution_count": null,
      "outputs": [
        {
          "output_type": "stream",
          "name": "stdout",
          "text": [
            "  Order Date  Year  Month  Day  DayOfWeek\n",
            "0        NaT   NaN    NaN  NaN        NaN\n",
            "1        NaT   NaN    NaN  NaN        NaN\n",
            "2        NaT   NaN    NaN  NaN        NaN\n",
            "3        NaT   NaN    NaN  NaN        NaN\n",
            "4        NaT   NaN    NaN  NaN        NaN\n",
            "  Order Date  Year  Month  Day  DayOfWeek\n",
            "0        NaT   NaN    NaN  NaN        NaN\n",
            "1        NaT   NaN    NaN  NaN        NaN\n",
            "2        NaT   NaN    NaN  NaN        NaN\n",
            "3        NaT   NaN    NaN  NaN        NaN\n",
            "4        NaT   NaN    NaN  NaN        NaN\n"
          ]
        }
      ]
    },
    {
      "cell_type": "markdown",
      "source": [
        "Create Seasonal Indicators:The Superstore dataset doesn’t explicitly include holiday flags, so we’ll create a basic holiday indicator based on common retail holidays (e.g., Christmas, Black Friday). For simplicity, mark December as a holiday-heavy month"
      ],
      "metadata": {
        "id": "gsC14uAZmioc"
      }
    },
    {
      "cell_type": "code",
      "source": [
        "# Add holiday indicator (1 for December, 0 otherwise)\n",
        "df['IsHoliday'] = df['Month'].apply(lambda x: 1 if x == 12 else 0)\n",
        "daily_sales['IsHoliday'] = daily_sales['Month'].apply(lambda x: 1 if x == 12 else 0)"
      ],
      "metadata": {
        "id": "cyJK6f27mtNF"
      },
      "execution_count": null,
      "outputs": []
    },
    {
      "cell_type": "code",
      "source": [
        "!pip install holidays\n",
        "import holidays\n",
        "us_holidays = holidays.US()\n",
        "df['IsHoliday'] = df['Order Date'].apply(lambda x: 1 if x in us_holidays else 0)\n",
        "daily_sales['IsHoliday'] = daily_sales['Order Date'].apply(lambda x: 1 if x in us_holidays else 0)"
      ],
      "metadata": {
        "colab": {
          "base_uri": "https://localhost:8080/"
        },
        "id": "1sF9fNr1m08X",
        "outputId": "802a1084-19e7-4af1-885b-6b26186ce6bc"
      },
      "execution_count": null,
      "outputs": [
        {
          "output_type": "stream",
          "name": "stdout",
          "text": [
            "Requirement already satisfied: holidays in /usr/local/lib/python3.11/dist-packages (0.76)\n",
            "Requirement already satisfied: python-dateutil in /usr/local/lib/python3.11/dist-packages (from holidays) (2.9.0.post0)\n",
            "Requirement already satisfied: six>=1.5 in /usr/local/lib/python3.11/dist-packages (from python-dateutil->holidays) (1.17.0)\n"
          ]
        }
      ]
    },
    {
      "cell_type": "markdown",
      "source": [
        "Compute average sales per month for each category (or region) in the full dataset to capture seasonal trends"
      ],
      "metadata": {
        "id": "wY4OMIHym5GS"
      }
    },
    {
      "cell_type": "code",
      "source": [
        "# Monthly average sales by Category\n",
        "monthly_avg = df.groupby(['Category', 'Month'])['Sales'].mean().reset_index()\n",
        "monthly_avg.rename(columns={'Sales': 'MonthlyAvgSales'}, inplace=True)\n",
        "df = pd.merge(df, monthly_avg, on=['Category', 'Month'], how='left')\n",
        "\n",
        "# Monthly average sales for daily_sales (across all categories)\n",
        "monthly_avg_daily = daily_sales.groupby('Month')['Sales'].mean().reset_index()\n",
        "monthly_avg_daily.rename(columns={'Sales': 'MonthlyAvgSales'}, inplace=True)\n",
        "daily_sales = pd.merge(daily_sales, monthly_avg_daily, on='Month', how='left')\n",
        "\n",
        "# Preview\n",
        "print(df[['Order Date', 'Category', 'Sales', 'MonthlyAvgSales']].head())\n",
        "print(daily_sales[['Order Date', 'Sales', 'MonthlyAvgSales']].head())"
      ],
      "metadata": {
        "colab": {
          "base_uri": "https://localhost:8080/"
        },
        "id": "uVzGnR67m9Ch",
        "outputId": "109d671a-9ed4-414b-c4ae-28cffaead134"
      },
      "execution_count": null,
      "outputs": [
        {
          "output_type": "stream",
          "name": "stdout",
          "text": [
            "  Order Date         Category     Sales  MonthlyAvgSales\n",
            "0        NaT        Furniture  261.9600              NaN\n",
            "1        NaT        Furniture  731.9400              NaN\n",
            "2        NaT  Office Supplies   14.6200              NaN\n",
            "3        NaT        Furniture  957.5775              NaN\n",
            "4        NaT  Office Supplies   22.3680              NaN\n",
            "  Order Date     Sales  MonthlyAvgSales\n",
            "0        NaT    16.448              NaN\n",
            "1        NaT   288.060              NaN\n",
            "2        NaT    19.536              NaN\n",
            "3        NaT  4407.100              NaN\n",
            "4        NaT    87.158              NaN\n"
          ]
        }
      ]
    },
    {
      "cell_type": "markdown",
      "source": [
        "Convert categorical columns like Category, Sub-Category, and Region to numerical codes for modeling and dashboard use"
      ],
      "metadata": {
        "id": "jvg1pY8JnC0U"
      }
    },
    {
      "cell_type": "code",
      "source": [
        "# Encode categorical variables in full dataset\n",
        "df['Category'] = df['Category'].astype('category').cat.codes\n",
        "df['Sub-Category'] = df['Sub-Category'].astype('category').cat.codes\n",
        "df['Region'] = df['Region'].astype('category').cat.codes\n",
        "\n",
        "# Preview\n",
        "print(df[['Category', 'Sub-Category', 'Region']].head())"
      ],
      "metadata": {
        "colab": {
          "base_uri": "https://localhost:8080/"
        },
        "id": "aUz8xS_hnD3Z",
        "outputId": "8b3c9ba9-aeaa-4593-d9d1-ebe89784c41e"
      },
      "execution_count": null,
      "outputs": [
        {
          "output_type": "stream",
          "name": "stdout",
          "text": [
            "   Category  Sub-Category  Region\n",
            "0         0             4       2\n",
            "1         0             5       2\n",
            "2         1            10       3\n",
            "3         0            16       2\n",
            "4         1            14       2\n"
          ]
        }
      ]
    },
    {
      "cell_type": "markdown",
      "source": [
        "Create Lag Features:\n",
        "Add lagged sales (e.g., sales from the previous day or week) to capture trends in the daily sales dataset"
      ],
      "metadata": {
        "id": "zdg2hN8VnJs7"
      }
    },
    {
      "cell_type": "code",
      "source": [
        "# Sort by date to ensure correct lag\n",
        "daily_sales = daily_sales.sort_values('Order Date')\n",
        "# Add 7-day lag (previous week's sales)\n",
        "daily_sales['Sales_Lag7'] = daily_sales['Sales'].shift(7)\n",
        "\n",
        "# Drop rows with NaN lag values\n",
        "daily_sales = daily_sales.dropna(subset=['Sales_Lag7'])\n",
        "\n",
        "# Preview\n",
        "print(daily_sales[['Order Date', 'Sales', 'Sales_Lag7']].head(10))"
      ],
      "metadata": {
        "colab": {
          "base_uri": "https://localhost:8080/"
        },
        "id": "OzrubeBHnKjk",
        "outputId": "5fca7044-9b93-435f-f390-49c96b6046fc"
      },
      "execution_count": null,
      "outputs": [
        {
          "output_type": "stream",
          "name": "stdout",
          "text": [
            "   Order Date     Sales  Sales_Lag7\n",
            "7         NaT     9.940      16.448\n",
            "8         NaT  3553.795     288.060\n",
            "9         NaT    61.960      19.536\n",
            "10        NaT   149.950    4407.100\n",
            "11        NaT   299.964      87.158\n",
            "12        NaT    64.864      40.544\n",
            "13        NaT   378.594      54.830\n",
            "14        NaT  2673.870       9.940\n",
            "15        NaT    40.080    3553.795\n",
            "16        NaT  1097.250      61.960\n"
          ]
        }
      ]
    },
    {
      "cell_type": "markdown",
      "source": [
        "Export the datasets with new features"
      ],
      "metadata": {
        "id": "niqZAJuCnP9U"
      }
    },
    {
      "cell_type": "code",
      "source": [
        "# Save full dataset with features\n",
        "df.to_csv('/content/drive/My Drive/SuperstoreProject/engineered_superstore_data.csv', index=False)\n",
        "# Save daily sales dataset with features\n",
        "daily_sales.to_csv('/content/drive/My Drive/SuperstoreProject/engineered_daily_sales.csv', index=False)"
      ],
      "metadata": {
        "id": "-073FLnGnRDu"
      },
      "execution_count": null,
      "outputs": []
    },
    {
      "cell_type": "markdown",
      "source": [
        "Train a Time Series Forecasting Model using Prophet"
      ],
      "metadata": {
        "id": "bfyJRH7coeEp"
      }
    },
    {
      "cell_type": "code",
      "source": [
        "\n",
        "# Step 4: Train a Time Series Forecasting Model using Prophet\n",
        "\n",
        "# Import required libraries\n",
        "import pandas as pd\n",
        "from prophet import Prophet\n",
        "import matplotlib.pyplot as plt\n",
        "\n",
        "# Step 4.1: Load and Clean the Original Dataset\n",
        "try:\n",
        "    full_df = pd.read_csv('/content/drive/My Drive/SuperstoreProject/train.csv')\n",
        "except FileNotFoundError:\n",
        "    print(\"Error: 'train.csv' not found in '/content/drive/My Drive/SuperstoreProject/'.\")\n",
        "    print(\"Please upload the Superstore dataset from https://www.kaggle.com/datasets/rohitsahoo/sales-forecasting to the folder.\")\n",
        "    raise\n",
        "\n",
        "# Inspect raw Order Date values\n",
        "print(\"Raw Order Date values (first 20 rows):\")\n",
        "print(full_df['Order Date'].head(20))\n",
        "print(\"\\nUnique Order Date values (sample):\")\n",
        "print(full_df['Order Date'].unique()[:20])\n",
        "print(\"\\nTotal rows in full_df:\", len(full_df))\n",
        "\n",
        "# Check for non-date entries\n",
        "full_df['Order Date'] = full_df['Order Date'].astype(str)\n",
        "invalid_dates = full_df['Order Date'][~full_df['Order Date'].str.match(r'^\\d{1,2}/\\d{1,2}/\\d{4}$', na=False)]\n",
        "print(\"\\nPotential invalid Order Date entries (not matching DD/MM/YYYY or MM/DD/YYYY):\")\n",
        "print(invalid_dates.head(10))\n",
        "print(f\"Number of invalid dates: {len(invalid_dates)}\")\n",
        "\n",
        "# Step 4.2: Parse Order Date\n",
        "# Try multiple date formats\n",
        "full_df['Order Date'] = pd.to_datetime(full_df['Order Date'], format='%d/%m/%Y', errors='coerce')\n",
        "if full_df['Order Date'].isnull().any():\n",
        "    print(\"\\nDD/MM/YYYY parsing failed for some dates. Trying MM/DD/YYYY...\")\n",
        "    full_df['Order Date'] = pd.to_datetime(full_df['Order Date'], format='%m/%d/%Y', errors='coerce')\n",
        "if full_df['Order Date'].isnull().any():\n",
        "    print(\"\\nSpecific formats failed. Trying mixed format...\")\n",
        "    full_df['Order Date'] = pd.to_datetime(full_df['Order Date'], format='mixed', errors='coerce')\n",
        "\n",
        "# Check for NaT values\n",
        "print(\"\\nMissing values in Order Date after parsing:\")\n",
        "print(full_df['Order Date'].isnull().sum())\n",
        "if full_df['Order Date'].isnull().any():\n",
        "    print(\"\\nRows with NaT in Order Date:\")\n",
        "    print(full_df[full_df['Order Date'].isnull()][['Order Date', 'Sales']])\n",
        "    full_df = full_df.dropna(subset=['Order Date'])\n",
        "\n",
        "# Clean Sales column\n",
        "full_df = full_df.dropna(subset=['Sales'])\n",
        "full_df = full_df[full_df['Sales'] > 0]\n",
        "\n",
        "# Verify cleaned data\n",
        "print(\"\\nCleaned full_df Preview:\")\n",
        "print(full_df[['Order Date', 'Sales']].head())\n",
        "print(\"\\nTotal rows after cleaning:\", len(full_df))\n",
        "\n",
        "# Save cleaned full dataset\n",
        "full_df.to_csv('/content/drive/My Drive/SuperstoreProject/full_cleaned_superstore_data.csv', index=False)\n",
        "\n",
        "# Step 4.3: Aggregate to Daily Sales\n",
        "daily_sales = full_df.groupby('Order Date')['Sales'].sum().reset_index()\n",
        "daily_sales['Order Date'] = pd.to_datetime(daily_sales['Order Date'], format='%d/%m/%Y', errors='coerce')\n",
        "daily_sales = daily_sales.dropna(subset=['Order Date'])\n",
        "daily_sales['IsHoliday'] = daily_sales['Order Date'].apply(lambda x: 1 if x.month == 12 else 0)\n",
        "\n",
        "# Verify daily_sales\n",
        "print(\"\\nDaily Sales Data Preview:\")\n",
        "print(daily_sales.head())\n",
        "print(\"\\nData Info:\")\n",
        "print(daily_sales.info())\n",
        "print(\"\\nMissing Values:\")\n",
        "print(daily_sales.isnull().sum())\n",
        "print(\"\\nTotal rows in daily_sales:\", len(daily_sales))\n",
        "\n",
        "# Save daily_sales\n",
        "daily_sales.to_csv('/content/drive/My Drive/SuperstoreProject/engineered_daily_sales.csv', index=False)\n",
        "\n",
        "# Step 4.4: Prepare Data for Prophet\n",
        "prophet_df = daily_sales[['Order Date', 'Sales', 'IsHoliday']].rename(columns={'Order Date': 'ds', 'Sales': 'y'})\n",
        "\n",
        "# Verify no NaN/NaT in ds or y\n",
        "print(\"\\nMissing values in prophet_df:\")\n",
        "print(prophet_df[['ds', 'y']].isnull().sum())\n",
        "if prophet_df['ds'].isnull().any() or prophet_df['y'].isnull().any():\n",
        "    print(\"\\nRows with NaN/NaT in prophet_df:\")\n",
        "    print(prophet_df[prophet_df['ds'].isnull() | prophet_df['y'].isnull()])\n",
        "    prophet_df = prophet_df.dropna(subset=['ds', 'y'])\n",
        "\n",
        "# Check if prophet_df has enough rows\n",
        "print(\"\\nTotal rows in prophet_df:\", len(prophet_df))\n",
        "if len(prophet_df) < 2:\n",
        "    print(\"Error: prophet_df has less than 2 rows. Please check the input data or re-upload train.csv.\")\n",
        "    raise ValueError(\"Insufficient data for Prophet model.\")\n",
        "\n",
        "# Verify prophet_df\n",
        "print(\"\\nProphet DataFrame Preview:\")\n",
        "print(prophet_df.head())\n",
        "\n",
        "# Step 4.5: Train the Prophet Model\n",
        "model = Prophet(yearly_seasonality=True, weekly_seasonality=True, daily_seasonality=True)\n",
        "model.add_regressor('IsHoliday')\n",
        "model.fit(prophet_df)\n",
        "\n",
        "# Step 4.6: Generate Future Dates\n",
        "future = model.make_future_dataframe(periods=30)\n",
        "future['IsHoliday'] = 0  # Default to 0 for future dates\n",
        "print(\"\\nFuture Dates Preview:\")\n",
        "print(future.tail())\n",
        "\n",
        "# Step 4.7: Make Predictions\n",
        "forecast = model.predict(future)\n",
        "print(\"\\nForecast Preview (last 5 rows):\")\n",
        "print(forecast[['ds', 'yhat', 'yhat_lower', 'yhat_upper']].tail())\n",
        "\n",
        "# Step 4.8: Visualize Results\n",
        "model.plot(forecast)\n",
        "plt.title('Sales Forecast with Prophet')\n",
        "plt.show()\n",
        "\n",
        "model.plot_components(forecast)\n",
        "plt.show()\n",
        "\n",
        "# Step 4.9: Save the Forecast\n",
        "forecast.to_csv('/content/drive/My Drive/SuperstoreProject/sales_forecast.csv', index=False)\n",
        "print(\"\\nForecast saved to '/content/drive/My Drive/SuperstoreProject/sales_forecast.csv'\")\n"
      ],
      "metadata": {
        "colab": {
          "base_uri": "https://localhost:8080/",
          "height": 1000
        },
        "id": "mok4cP3ytOoo",
        "outputId": "0212d831-fc7b-4721-9726-1acdf068e827"
      },
      "execution_count": null,
      "outputs": [
        {
          "output_type": "stream",
          "name": "stdout",
          "text": [
            "Raw Order Date values (first 20 rows):\n",
            "0     08/11/2017\n",
            "1     08/11/2017\n",
            "2     12/06/2017\n",
            "3     11/10/2016\n",
            "4     11/10/2016\n",
            "5     09/06/2015\n",
            "6     09/06/2015\n",
            "7     09/06/2015\n",
            "8     09/06/2015\n",
            "9     09/06/2015\n",
            "10    09/06/2015\n",
            "11    09/06/2015\n",
            "12    15/04/2018\n",
            "13    05/12/2017\n",
            "14    22/11/2016\n",
            "15    22/11/2016\n",
            "16    11/11/2015\n",
            "17    13/05/2015\n",
            "18    27/08/2015\n",
            "19    27/08/2015\n",
            "Name: Order Date, dtype: object\n",
            "\n",
            "Unique Order Date values (sample):\n",
            "['08/11/2017' '12/06/2017' '11/10/2016' '09/06/2015' '15/04/2018'\n",
            " '05/12/2017' '22/11/2016' '11/11/2015' '13/05/2015' '27/08/2015'\n",
            " '09/12/2017' '16/07/2018' '25/09/2016' '16/01/2017' '17/09/2016'\n",
            " '19/10/2018' '08/12/2017' '27/12/2016' '10/09/2018' '17/07/2017']\n",
            "\n",
            "Total rows in full_df: 9800\n",
            "\n",
            "Potential invalid Order Date entries (not matching DD/MM/YYYY or MM/DD/YYYY):\n",
            "Series([], Name: Order Date, dtype: object)\n",
            "Number of invalid dates: 0\n",
            "\n",
            "Missing values in Order Date after parsing:\n",
            "0\n",
            "\n",
            "Cleaned full_df Preview:\n",
            "  Order Date     Sales\n",
            "0 2017-11-08  261.9600\n",
            "1 2017-11-08  731.9400\n",
            "2 2017-06-12   14.6200\n",
            "3 2016-10-11  957.5775\n",
            "4 2016-10-11   22.3680\n",
            "\n",
            "Total rows after cleaning: 9800\n",
            "\n",
            "Daily Sales Data Preview:\n",
            "  Order Date     Sales  IsHoliday\n",
            "0 2015-01-03    16.448          0\n",
            "1 2015-01-04   288.060          0\n",
            "2 2015-01-05    19.536          0\n",
            "3 2015-01-06  4407.100          0\n",
            "4 2015-01-07    87.158          0\n",
            "\n",
            "Data Info:\n",
            "<class 'pandas.core.frame.DataFrame'>\n",
            "RangeIndex: 1230 entries, 0 to 1229\n",
            "Data columns (total 3 columns):\n",
            " #   Column      Non-Null Count  Dtype         \n",
            "---  ------      --------------  -----         \n",
            " 0   Order Date  1230 non-null   datetime64[ns]\n",
            " 1   Sales       1230 non-null   float64       \n",
            " 2   IsHoliday   1230 non-null   int64         \n",
            "dtypes: datetime64[ns](1), float64(1), int64(1)\n",
            "memory usage: 29.0 KB\n",
            "None\n",
            "\n",
            "Missing Values:\n",
            "Order Date    0\n",
            "Sales         0\n",
            "IsHoliday     0\n",
            "dtype: int64\n",
            "\n",
            "Total rows in daily_sales: 1230\n",
            "\n",
            "Missing values in prophet_df:\n",
            "ds    0\n",
            "y     0\n",
            "dtype: int64\n",
            "\n",
            "Total rows in prophet_df: 1230\n",
            "\n",
            "Prophet DataFrame Preview:\n",
            "          ds         y  IsHoliday\n",
            "0 2015-01-03    16.448          0\n",
            "1 2015-01-04   288.060          0\n",
            "2 2015-01-05    19.536          0\n",
            "3 2015-01-06  4407.100          0\n",
            "4 2015-01-07    87.158          0\n"
          ]
        },
        {
          "output_type": "stream",
          "name": "stderr",
          "text": [
            "DEBUG:cmdstanpy:input tempfile: /tmp/tmp7b4m62c1/nmfjvx2i.json\n",
            "DEBUG:cmdstanpy:input tempfile: /tmp/tmp7b4m62c1/_uso7mzp.json\n",
            "DEBUG:cmdstanpy:idx 0\n",
            "DEBUG:cmdstanpy:running CmdStan, num_threads: None\n",
            "DEBUG:cmdstanpy:CmdStan args: ['/usr/local/lib/python3.11/dist-packages/prophet/stan_model/prophet_model.bin', 'random', 'seed=43319', 'data', 'file=/tmp/tmp7b4m62c1/nmfjvx2i.json', 'init=/tmp/tmp7b4m62c1/_uso7mzp.json', 'output', 'file=/tmp/tmp7b4m62c1/prophet_model2qgionum/prophet_model-20250715132722.csv', 'method=optimize', 'algorithm=lbfgs', 'iter=10000']\n",
            "13:27:22 - cmdstanpy - INFO - Chain [1] start processing\n",
            "INFO:cmdstanpy:Chain [1] start processing\n",
            "13:27:22 - cmdstanpy - INFO - Chain [1] done processing\n",
            "INFO:cmdstanpy:Chain [1] done processing\n"
          ]
        },
        {
          "output_type": "stream",
          "name": "stdout",
          "text": [
            "\n",
            "Future Dates Preview:\n",
            "             ds  IsHoliday\n",
            "1255 2019-01-25          0\n",
            "1256 2019-01-26          0\n",
            "1257 2019-01-27          0\n",
            "1258 2019-01-28          0\n",
            "1259 2019-01-29          0\n",
            "\n",
            "Forecast Preview (last 5 rows):\n",
            "             ds         yhat  yhat_lower   yhat_upper\n",
            "1255 2019-01-25  1731.324940 -999.253229  4546.149865\n",
            "1256 2019-01-26  2191.088160 -716.544986  5209.388003\n",
            "1257 2019-01-27  1967.257610 -846.785200  4648.115044\n",
            "1258 2019-01-28  1877.026114 -806.985293  4625.219024\n",
            "1259 2019-01-29  2220.171381 -365.047199  4878.315433\n"
          ]
        },
        {
          "output_type": "display_data",
          "data": {
            "text/plain": [
              "<Figure size 1000x600 with 1 Axes>"
            ],
            "image/png": "[encoded data removed]"
          },
          "metadata": {}
        },
        {
          "output_type": "display_data",
          "data": {
            "text/plain": [
              "<Figure size 900x1500 with 5 Axes>"
            ],
            "image/png": "[encoded data removed]"
          },
          "metadata": {}
        },
        {
          "output_type": "stream",
          "name": "stdout",
          "text": [
            "\n",
            "Forecast saved to '/content/drive/My Drive/SuperstoreProject/sales_forecast.csv'\n"
          ]
        }
      ]
    },
    {
      "cell_type": "code",
      "source": [
        "# Step 5.1: Prepare Data for Power BI\n",
        "\n",
        "import pandas as pd\n",
        "\n",
        "# Load the cleaned and forecast datasets\n",
        "full_df = pd.read_csv('/content/drive/My Drive/SuperstoreProject/full_cleaned_superstore_data.csv')\n",
        "daily_sales = pd.read_csv('/content/drive/My Drive/SuperstoreProject/engineered_daily_sales.csv')\n",
        "forecast = pd.read_csv('/content/drive/My Drive/SuperstoreProject/sales_forecast.csv')\n",
        "\n",
        "# Ensure Order Date is datetime\n",
        "full_df['Order Date'] = pd.to_datetime(full_df['Order Date'], format='%d/%m/%Y', errors='coerce')\n",
        "daily_sales['Order Date'] = pd.to_datetime(daily_sales['Order Date'], format='%d/%m/%Y', errors='coerce')\n",
        "forecast['ds'] = pd.to_datetime(forecast['ds'], errors='coerce')\n",
        "\n",
        "# Create a combined dataset for Power BI (historical + forecast)\n",
        "# Select relevant forecast columns\n",
        "forecast_subset = forecast[['ds', 'yhat', 'yhat_lower', 'yhat_upper']].rename(columns={'ds': 'Order Date', 'yhat': 'Forecasted Sales'})\n",
        "forecast_subset['Type'] = 'Forecast'\n",
        "\n",
        "# Historical daily sales\n",
        "daily_sales_subset = daily_sales[['Order Date', 'Sales']].rename(columns={'Sales': 'Forecasted Sales'})\n",
        "daily_sales_subset['Type'] = 'Historical'\n",
        "\n",
        "# Combine historical and forecast data\n",
        "combined_df = pd.concat([daily_sales_subset, forecast_subset], ignore_index=True)\n",
        "\n",
        "# Add confidence intervals for forecast rows\n",
        "combined_df['Lower Bound'] = combined_df['yhat_lower'].fillna(0)\n",
        "combined_df['Upper Bound'] = combined_df['yhat_upper'].fillna(0)\n",
        "\n",
        "# Save the combined dataset\n",
        "combined_df.to_csv('/content/drive/My Drive/SuperstoreProject/combined_sales_forecast.csv', index=False)\n",
        "\n",
        "# Preview the combined dataset\n",
        "print(\"Combined Dataset Preview:\")\n",
        "print(combined_df.head())\n",
        "print(\"\\nCombined Dataset Info:\")\n",
        "print(combined_df.info())\n",
        "print(\"\\nMissing Values in Combined Dataset:\")\n",
        "print(combined_df.isnull().sum())"
      ],
      "metadata": {
        "colab": {
          "base_uri": "https://localhost:8080/"
        },
        "id": "O_ro3YfBvc4l",
        "outputId": "d3c6af96-5e8e-483c-86c9-7acbd569e8d7"
      },
      "execution_count": null,
      "outputs": [
        {
          "output_type": "stream",
          "name": "stdout",
          "text": [
            "Combined Dataset Preview:\n",
            "  Order Date  Forecasted Sales        Type  yhat_lower  yhat_upper  \\\n",
            "0        NaT            16.448  Historical         NaN         NaN   \n",
            "1        NaT           288.060  Historical         NaN         NaN   \n",
            "2        NaT            19.536  Historical         NaN         NaN   \n",
            "3        NaT          4407.100  Historical         NaN         NaN   \n",
            "4        NaT            87.158  Historical         NaN         NaN   \n",
            "\n",
            "   Lower Bound  Upper Bound  \n",
            "0          0.0          0.0  \n",
            "1          0.0          0.0  \n",
            "2          0.0          0.0  \n",
            "3          0.0          0.0  \n",
            "4          0.0          0.0  \n",
            "\n",
            "Combined Dataset Info:\n",
            "<class 'pandas.core.frame.DataFrame'>\n",
            "RangeIndex: 2490 entries, 0 to 2489\n",
            "Data columns (total 7 columns):\n",
            " #   Column            Non-Null Count  Dtype         \n",
            "---  ------            --------------  -----         \n",
            " 0   Order Date        1260 non-null   datetime64[ns]\n",
            " 1   Forecasted Sales  2490 non-null   float64       \n",
            " 2   Type              2490 non-null   object        \n",
            " 3   yhat_lower        1260 non-null   float64       \n",
            " 4   yhat_upper        1260 non-null   float64       \n",
            " 5   Lower Bound       2490 non-null   float64       \n",
            " 6   Upper Bound       2490 non-null   float64       \n",
            "dtypes: datetime64[ns](1), float64(5), object(1)\n",
            "memory usage: 136.3+ KB\n",
            "None\n",
            "\n",
            "Missing Values in Combined Dataset:\n",
            "Order Date          1230\n",
            "Forecasted Sales       0\n",
            "Type                   0\n",
            "yhat_lower          1230\n",
            "yhat_upper          1230\n",
            "Lower Bound            0\n",
            "Upper Bound            0\n",
            "dtype: int64\n"
          ]
        }
      ]
    },
    {
      "cell_type": "code",
      "source": [
        "\n",
        "# Step 5.1: Prepare Data for Power BI\n",
        "\n",
        "import pandas as pd\n",
        "\n",
        "# Step 5.1.1: Load and Inspect Input Datasets\n",
        "try:\n",
        "    daily_sales = pd.read_csv('/content/drive/My Drive/SuperstoreProject/engineered_daily_sales.csv')\n",
        "    forecast = pd.read_csv('/content/drive/My Drive/SuperstoreProject/sales_forecast.csv')\n",
        "except FileNotFoundError as e:\n",
        "    print(f\"Error: File not found - {e}. Please ensure 'engineered_daily_sales.csv' and 'sales_forecast.csv' are in '/content/drive/My Drive/SuperstoreProject/'.\")\n",
        "    raise\n",
        "\n",
        "# Inspect daily_sales\n",
        "print(\"Daily Sales Preview:\")\n",
        "print(daily_sales.head())\n",
        "print(\"\\nDaily Sales Info:\")\n",
        "print(daily_sales.info())\n",
        "print(\"\\nDaily Sales Order Date Missing Values:\")\n",
        "print(daily_sales['Order Date'].isnull().sum())\n",
        "print(\"\\nDaily Sales Order Date Sample (first 20):\")\n",
        "print(daily_sales['Order Date'].head(20))\n",
        "\n",
        "# Inspect forecast\n",
        "print(\"\\nForecast Preview:\")\n",
        "print(forecast.head())\n",
        "print(\"\\nForecast Info:\")\n",
        "print(forecast.info())\n",
        "print(\"\\nForecast ds Missing Values:\")\n",
        "print(forecast['ds'].isnull().sum())\n",
        "print(\"\\nForecast ds Sample (first 20):\")\n",
        "print(forecast['ds'].head(20))\n",
        "\n",
        "# Step 5.1.2: Parse Dates\n",
        "# Ensure Order Date in daily_sales is datetime\n",
        "daily_sales['Order Date'] = pd.to_datetime(daily_sales['Order Date'], format='%d/%m/%Y', errors='coerce')\n",
        "if daily_sales['Order Date'].isnull().any():\n",
        "    print(\"\\nTrying MM/DD/YYYY for daily_sales Order Date...\")\n",
        "    daily_sales['Order Date'] = pd.to_datetime(daily_sales['Order Date'], format='%m/%d/%Y', errors='coerce')\n",
        "if daily_sales['Order Date'].isnull().any():\n",
        "    print(\"\\nTrying mixed format for daily_sales Order Date...\")\n",
        "    daily_sales['Order Date'] = pd.to_datetime(daily_sales['Order Date'], format='mixed', errors='coerce')\n",
        "\n",
        "# Drop rows with NaT in daily_sales\n",
        "if daily_sales['Order Date'].isnull().any():\n",
        "    print(\"\\nRows with NaT in daily_sales Order Date:\")\n",
        "    print(daily_sales[daily_sales['Order Date'].isnull()][['Order Date', 'Sales', 'IsHoliday']])\n",
        "    daily_sales = daily_sales.dropna(subset=['Order Date'])\n",
        "\n",
        "# Ensure ds in forecast is datetime\n",
        "forecast['ds'] = pd.to_datetime(forecast['ds'], format='%Y-%m-%d', errors='coerce')\n",
        "if forecast['ds'].isnull().any():\n",
        "    print(\"\\nRows with NaT in forecast ds:\")\n",
        "    print(forecast[forecast['ds'].isnull()][['ds', 'yhat', 'yhat_lower', 'yhat_upper']])\n",
        "    forecast = forecast.dropna(subset=['ds'])\n",
        "\n",
        "# Verify data after parsing\n",
        "print(\"\\nDaily Sales Order Date Missing Values After Parsing:\")\n",
        "print(daily_sales['Order Date'].isnull().sum())\n",
        "print(\"\\nForecast ds Missing Values After Parsing:\")\n",
        "print(forecast['ds'].isnull().sum())\n",
        "print(\"\\nTotal rows in daily_sales:\", len(daily_sales))\n",
        "print(\"\\nTotal rows in forecast:\", len(forecast))\n",
        "\n",
        "# Step 5.1.3: Create Combined Dataset\n",
        "# Historical daily sales\n",
        "daily_sales_subset = daily_sales[['Order Date', 'Sales']].rename(columns={'Sales': 'Forecasted Sales'})\n",
        "daily_sales_subset['Type'] = 'Historical'\n",
        "\n",
        "# Forecasted sales\n",
        "forecast_subset = forecast[['ds', 'yhat', 'yhat_lower', 'yhat_upper']].rename(columns={'ds': 'Order Date', 'yhat': 'Forecasted Sales'})\n",
        "forecast_subset['Type'] = 'Forecast'\n",
        "\n",
        "# Combine datasets\n",
        "combined_df = pd.concat([daily_sales_subset, forecast_subset], ignore_index=True)\n",
        "\n",
        "# Add confidence intervals (fill NaN with 0 for historical rows)\n",
        "combined_df['Lower Bound'] = combined_df['yhat_lower'].fillna(0)\n",
        "combined_df['Upper Bound'] = combined_df['yhat_upper'].fillna(0)\n",
        "\n",
        "# Verify combined dataset\n",
        "print(\"\\nCombined Dataset Preview:\")\n",
        "print(combined_df.head())\n",
        "print(\"\\nCombined Dataset Info:\")\n",
        "print(combined_df.info())\n",
        "print(\"\\nCombined Dataset Missing Values:\")\n",
        "print(combined_df.isnull().sum())\n",
        "print(\"\\nCombined Dataset Order Date Sample (first 20):\")\n",
        "print(combined_df['Order Date'].head(20))\n",
        "print(\"\\nTotal rows in combined_df:\", len(combined_df))\n",
        "\n",
        "# Step 5.1.4: Save Combined Dataset\n",
        "if combined_df['Order Date'].isnull().any():\n",
        "    print(\"\\nError: Order Date contains NaT values. Please check input datasets.\")\n",
        "    raise ValueError(\"Cannot save combined dataset with missing Order Date values.\")\n",
        "combined_df.to_csv('/content/drive/My Drive/SuperstoreProject/combined_sales_forecast.csv', index=False)\n",
        "print(\"\\nCombined dataset saved to '/content/drive/My Drive/SuperstoreProject/combined_sales_forecast.csv'\")\n"
      ],
      "metadata": {
        "id": "C2M45bpAyRjg",
        "outputId": "e87276b8-5ac1-4122-ca2b-2a25cfa8fa25",
        "colab": {
          "base_uri": "https://localhost:8080/"
        }
      },
      "execution_count": null,
      "outputs": [
        {
          "output_type": "stream",
          "name": "stdout",
          "text": [
            "Daily Sales Preview:\n",
            "   Order Date     Sales  IsHoliday\n",
            "0  2015-01-03    16.448          0\n",
            "1  2015-01-04   288.060          0\n",
            "2  2015-01-05    19.536          0\n",
            "3  2015-01-06  4407.100          0\n",
            "4  2015-01-07    87.158          0\n",
            "\n",
            "Daily Sales Info:\n",
            "<class 'pandas.core.frame.DataFrame'>\n",
            "RangeIndex: 1230 entries, 0 to 1229\n",
            "Data columns (total 3 columns):\n",
            " #   Column      Non-Null Count  Dtype  \n",
            "---  ------      --------------  -----  \n",
            " 0   Order Date  1230 non-null   object \n",
            " 1   Sales       1230 non-null   float64\n",
            " 2   IsHoliday   1230 non-null   int64  \n",
            "dtypes: float64(1), int64(1), object(1)\n",
            "memory usage: 29.0+ KB\n",
            "None\n",
            "\n",
            "Daily Sales Order Date Missing Values:\n",
            "0\n",
            "\n",
            "Daily Sales Order Date Sample (first 20):\n",
            "0     2015-01-03\n",
            "1     2015-01-04\n",
            "2     2015-01-05\n",
            "3     2015-01-06\n",
            "4     2015-01-07\n",
            "5     2015-01-09\n",
            "6     2015-01-10\n",
            "7     2015-01-11\n",
            "8     2015-01-13\n",
            "9     2015-01-14\n",
            "10    2015-01-15\n",
            "11    2015-01-16\n",
            "12    2015-01-18\n",
            "13    2015-01-19\n",
            "14    2015-01-20\n",
            "15    2015-01-23\n",
            "16    2015-01-26\n",
            "17    2015-01-27\n",
            "18    2015-01-28\n",
            "19    2015-01-30\n",
            "Name: Order Date, dtype: object\n",
            "\n",
            "Forecast Preview:\n",
            "           ds       trend   yhat_lower   yhat_upper  trend_lower  trend_upper  \\\n",
            "0  2015-01-03  269.946738 -1511.775700  3766.108054   269.946738   269.946738   \n",
            "1  2015-01-04  270.227680 -2082.205862  3611.223800   270.227680   270.227680   \n",
            "2  2015-01-05  270.508621 -2137.259710  3596.415293   270.508621   270.508621   \n",
            "3  2015-01-06  270.789563 -1620.320168  3728.365272   270.789563   270.789563   \n",
            "4  2015-01-07  271.070505 -2518.871207  3274.651176   271.070505   271.070505   \n",
            "\n",
            "   IsHoliday  IsHoliday_lower  IsHoliday_upper  additive_terms  ...  \\\n",
            "0        0.0              0.0              0.0      733.527554  ...   \n",
            "1        0.0              0.0              0.0      482.179764  ...   \n",
            "2        0.0              0.0              0.0      371.618230  ...   \n",
            "3        0.0              0.0              0.0      702.709680  ...   \n",
            "4        0.0              0.0              0.0      225.321905  ...   \n",
            "\n",
            "       weekly  weekly_lower  weekly_upper      yearly  yearly_lower  \\\n",
            "0  359.034958    359.034958    359.034958 -639.569610   -639.569610   \n",
            "1  121.703052    121.703052    121.703052 -653.585494   -653.585494   \n",
            "2   23.898053     23.898053     23.898053 -666.342030   -666.342030   \n",
            "3  365.938787    365.938787    365.938787 -677.291313   -677.291313   \n",
            "4 -102.835261   -102.835261   -102.835261 -685.905040   -685.905040   \n",
            "\n",
            "   yearly_upper  multiplicative_terms  multiplicative_terms_lower  \\\n",
            "0   -639.569610                   0.0                         0.0   \n",
            "1   -653.585494                   0.0                         0.0   \n",
            "2   -666.342030                   0.0                         0.0   \n",
            "3   -677.291313                   0.0                         0.0   \n",
            "4   -685.905040                   0.0                         0.0   \n",
            "\n",
            "   multiplicative_terms_upper         yhat  \n",
            "0                         0.0  1003.474292  \n",
            "1                         0.0   752.407444  \n",
            "2                         0.0   642.126851  \n",
            "3                         0.0   973.499244  \n",
            "4                         0.0   496.392410  \n",
            "\n",
            "[5 rows x 28 columns]\n",
            "\n",
            "Forecast Info:\n",
            "<class 'pandas.core.frame.DataFrame'>\n",
            "RangeIndex: 1260 entries, 0 to 1259\n",
            "Data columns (total 28 columns):\n",
            " #   Column                           Non-Null Count  Dtype  \n",
            "---  ------                           --------------  -----  \n",
            " 0   ds                               1260 non-null   object \n",
            " 1   trend                            1260 non-null   float64\n",
            " 2   yhat_lower                       1260 non-null   float64\n",
            " 3   yhat_upper                       1260 non-null   float64\n",
            " 4   trend_lower                      1260 non-null   float64\n",
            " 5   trend_upper                      1260 non-null   float64\n",
            " 6   IsHoliday                        1260 non-null   float64\n",
            " 7   IsHoliday_lower                  1260 non-null   float64\n",
            " 8   IsHoliday_upper                  1260 non-null   float64\n",
            " 9   additive_terms                   1260 non-null   float64\n",
            " 10  additive_terms_lower             1260 non-null   float64\n",
            " 11  additive_terms_upper             1260 non-null   float64\n",
            " 12  daily                            1260 non-null   float64\n",
            " 13  daily_lower                      1260 non-null   float64\n",
            " 14  daily_upper                      1260 non-null   float64\n",
            " 15  extra_regressors_additive        1260 non-null   float64\n",
            " 16  extra_regressors_additive_lower  1260 non-null   float64\n",
            " 17  extra_regressors_additive_upper  1260 non-null   float64\n",
            " 18  weekly                           1260 non-null   float64\n",
            " 19  weekly_lower                     1260 non-null   float64\n",
            " 20  weekly_upper                     1260 non-null   float64\n",
            " 21  yearly                           1260 non-null   float64\n",
            " 22  yearly_lower                     1260 non-null   float64\n",
            " 23  yearly_upper                     1260 non-null   float64\n",
            " 24  multiplicative_terms             1260 non-null   float64\n",
            " 25  multiplicative_terms_lower       1260 non-null   float64\n",
            " 26  multiplicative_terms_upper       1260 non-null   float64\n",
            " 27  yhat                             1260 non-null   float64\n",
            "dtypes: float64(27), object(1)\n",
            "memory usage: 275.8+ KB\n",
            "None\n",
            "\n",
            "Forecast ds Missing Values:\n",
            "0\n",
            "\n",
            "Forecast ds Sample (first 20):\n",
            "0     2015-01-03\n",
            "1     2015-01-04\n",
            "2     2015-01-05\n",
            "3     2015-01-06\n",
            "4     2015-01-07\n",
            "5     2015-01-09\n",
            "6     2015-01-10\n",
            "7     2015-01-11\n",
            "8     2015-01-13\n",
            "9     2015-01-14\n",
            "10    2015-01-15\n",
            "11    2015-01-16\n",
            "12    2015-01-18\n",
            "13    2015-01-19\n",
            "14    2015-01-20\n",
            "15    2015-01-23\n",
            "16    2015-01-26\n",
            "17    2015-01-27\n",
            "18    2015-01-28\n",
            "19    2015-01-30\n",
            "Name: ds, dtype: object\n",
            "\n",
            "Trying MM/DD/YYYY for daily_sales Order Date...\n",
            "\n",
            "Trying mixed format for daily_sales Order Date...\n",
            "\n",
            "Rows with NaT in daily_sales Order Date:\n",
            "     Order Date      Sales  IsHoliday\n",
            "0           NaT    16.4480          0\n",
            "1           NaT   288.0600          0\n",
            "2           NaT    19.5360          0\n",
            "3           NaT  4407.1000          0\n",
            "4           NaT    87.1580          0\n",
            "...         ...        ...        ...\n",
            "1225        NaT   814.5940          1\n",
            "1226        NaT   177.6360          1\n",
            "1227        NaT  1657.3508          1\n",
            "1228        NaT  2915.5340          1\n",
            "1229        NaT   713.7900          1\n",
            "\n",
            "[1230 rows x 3 columns]\n",
            "\n",
            "Daily Sales Order Date Missing Values After Parsing:\n",
            "0\n",
            "\n",
            "Forecast ds Missing Values After Parsing:\n",
            "0\n",
            "\n",
            "Total rows in daily_sales: 0\n",
            "\n",
            "Total rows in forecast: 1260\n",
            "\n",
            "Combined Dataset Preview:\n",
            "  Order Date  Forecasted Sales      Type   yhat_lower   yhat_upper  \\\n",
            "0 2015-01-03       1003.474292  Forecast -1511.775700  3766.108054   \n",
            "1 2015-01-04        752.407444  Forecast -2082.205862  3611.223800   \n",
            "2 2015-01-05        642.126851  Forecast -2137.259710  3596.415293   \n",
            "3 2015-01-06        973.499244  Forecast -1620.320168  3728.365272   \n",
            "4 2015-01-07        496.392410  Forecast -2518.871207  3274.651176   \n",
            "\n",
            "   Lower Bound  Upper Bound  \n",
            "0 -1511.775700  3766.108054  \n",
            "1 -2082.205862  3611.223800  \n",
            "2 -2137.259710  3596.415293  \n",
            "3 -1620.320168  3728.365272  \n",
            "4 -2518.871207  3274.651176  \n",
            "\n",
            "Combined Dataset Info:\n",
            "<class 'pandas.core.frame.DataFrame'>\n",
            "RangeIndex: 1260 entries, 0 to 1259\n",
            "Data columns (total 7 columns):\n",
            " #   Column            Non-Null Count  Dtype         \n",
            "---  ------            --------------  -----         \n",
            " 0   Order Date        1260 non-null   datetime64[ns]\n",
            " 1   Forecasted Sales  1260 non-null   float64       \n",
            " 2   Type              1260 non-null   object        \n",
            " 3   yhat_lower        1260 non-null   float64       \n",
            " 4   yhat_upper        1260 non-null   float64       \n",
            " 5   Lower Bound       1260 non-null   float64       \n",
            " 6   Upper Bound       1260 non-null   float64       \n",
            "dtypes: datetime64[ns](1), float64(5), object(1)\n",
            "memory usage: 69.0+ KB\n",
            "None\n",
            "\n",
            "Combined Dataset Missing Values:\n",
            "Order Date          0\n",
            "Forecasted Sales    0\n",
            "Type                0\n",
            "yhat_lower          0\n",
            "yhat_upper          0\n",
            "Lower Bound         0\n",
            "Upper Bound         0\n",
            "dtype: int64\n",
            "\n",
            "Combined Dataset Order Date Sample (first 20):\n",
            "0    2015-01-03\n",
            "1    2015-01-04\n",
            "2    2015-01-05\n",
            "3    2015-01-06\n",
            "4    2015-01-07\n",
            "5    2015-01-09\n",
            "6    2015-01-10\n",
            "7    2015-01-11\n",
            "8    2015-01-13\n",
            "9    2015-01-14\n",
            "10   2015-01-15\n",
            "11   2015-01-16\n",
            "12   2015-01-18\n",
            "13   2015-01-19\n",
            "14   2015-01-20\n",
            "15   2015-01-23\n",
            "16   2015-01-26\n",
            "17   2015-01-27\n",
            "18   2015-01-28\n",
            "19   2015-01-30\n",
            "Name: Order Date, dtype: datetime64[ns]\n",
            "\n",
            "Total rows in combined_df: 1260\n",
            "\n",
            "Combined dataset saved to '/content/drive/My Drive/SuperstoreProject/combined_sales_forecast.csv'\n"
          ]
        }
      ]
    },
    {
      "cell_type": "code",
      "source": [
        "import pandas as pd\n",
        "\n",
        "# Load the datasets\n",
        "daily_sales = pd.read_csv('/content/drive/My Drive/SuperstoreProject/engineered_daily_sales.csv')\n",
        "forecast = pd.read_csv('/content/drive/My Drive/SuperstoreProject/sales_forecast.csv')\n",
        "\n",
        "# Parse dates with robust error handling\n",
        "daily_sales['Order Date'] = pd.to_datetime(daily_sales['Order Date'], errors='coerce')\n",
        "if daily_sales['Order Date'].isnull().all():\n",
        "    print(\"Warning: All Order Date values are NaT. Trying mixed format...\")\n",
        "    daily_sales['Order Date'] = pd.to_datetime(daily_sales['Order Date'], format='mixed', errors='coerce')\n",
        "daily_sales = daily_sales.dropna(subset=['Order Date', 'Sales'])\n",
        "\n",
        "forecast['ds'] = pd.to_datetime(forecast['ds'], errors='coerce')\n",
        "forecast = forecast.dropna(subset=['ds', 'yhat'])\n",
        "\n",
        "# Create subsets with explicit Type assignment\n",
        "daily_sales_subset = daily_sales[['Order Date', 'Sales']].rename(columns={'Sales': 'Forecasted Sales'})\n",
        "daily_sales_subset['Type'] = 'Historical'\n",
        "\n",
        "forecast_subset = forecast[['ds', 'yhat', 'yhat_lower', 'yhat_upper']].rename(columns={'ds': 'Order Date', 'yhat': 'Forecasted Sales'})\n",
        "forecast_subset['Type'] = 'Forecast'  # Ensure this line is correct\n",
        "\n",
        "# Combine datasets and verify Type\n",
        "combined_df = pd.concat([daily_sales_subset, forecast_subset], ignore_index=True, join='outer')\n",
        "combined_df['Lower Bound'] = combined_df['yhat_lower'].fillna(0)\n",
        "combined_df['Upper Bound'] = combined_df['yhat_upper'].fillna(0)\n",
        "\n",
        "# Drop rows where Forecasted Sales is NaN (if any)\n",
        "combined_df = combined_df.dropna(subset=['Forecasted Sales'])\n",
        "\n",
        "# Verify before saving\n",
        "print(\"\\nCombined Data Preview:\")\n",
        "print(combined_df.head())\n",
        "print(\"\\nCombined Data Info:\")\n",
        "print(combined_df.info())\n",
        "print(\"\\nCombined Data Row Count:\", len(combined_df))\n",
        "print(\"\\nCombined Data Type Value Counts:\")\n",
        "print(combined_df['Type'].value_counts())\n",
        "\n",
        "# Save the updated file\n",
        "combined_df.to_csv('/content/drive/My Drive/SuperstoreProject/combined_sales_forecast.csv', index=False)\n",
        "print(\"\\nCombined dataset updated and saved to '/content/drive/My Drive/SuperstoreProject/combined_sales_forecast.csv'\")"
      ],
      "metadata": {
        "colab": {
          "base_uri": "https://localhost:8080/"
        },
        "id": "EVmn1TBJR6W6",
        "outputId": "e774c6ad-618b-4bdf-b9af-4c3aafc84229"
      },
      "execution_count": null,
      "outputs": [
        {
          "output_type": "stream",
          "name": "stdout",
          "text": [
            "\n",
            "Combined Data Preview:\n",
            "  Order Date  Forecasted Sales        Type  yhat_lower  yhat_upper  \\\n",
            "0 2015-01-03            16.448  Historical         NaN         NaN   \n",
            "1 2015-01-04           288.060  Historical         NaN         NaN   \n",
            "2 2015-01-05            19.536  Historical         NaN         NaN   \n",
            "3 2015-01-06          4407.100  Historical         NaN         NaN   \n",
            "4 2015-01-07            87.158  Historical         NaN         NaN   \n",
            "\n",
            "   Lower Bound  Upper Bound  \n",
            "0          0.0          0.0  \n",
            "1          0.0          0.0  \n",
            "2          0.0          0.0  \n",
            "3          0.0          0.0  \n",
            "4          0.0          0.0  \n",
            "\n",
            "Combined Data Info:\n",
            "<class 'pandas.core.frame.DataFrame'>\n",
            "RangeIndex: 2490 entries, 0 to 2489\n",
            "Data columns (total 7 columns):\n",
            " #   Column            Non-Null Count  Dtype         \n",
            "---  ------            --------------  -----         \n",
            " 0   Order Date        2490 non-null   datetime64[ns]\n",
            " 1   Forecasted Sales  2490 non-null   float64       \n",
            " 2   Type              2490 non-null   object        \n",
            " 3   yhat_lower        1260 non-null   float64       \n",
            " 4   yhat_upper        1260 non-null   float64       \n",
            " 5   Lower Bound       2490 non-null   float64       \n",
            " 6   Upper Bound       2490 non-null   float64       \n",
            "dtypes: datetime64[ns](1), float64(5), object(1)\n",
            "memory usage: 136.3+ KB\n",
            "None\n",
            "\n",
            "Combined Data Row Count: 2490\n",
            "\n",
            "Combined Data Type Value Counts:\n",
            "Type\n",
            "Forecast      1260\n",
            "Historical    1230\n",
            "Name: count, dtype: int64\n",
            "\n",
            "Combined dataset updated and saved to '/content/drive/My Drive/SuperstoreProject/combined_sales_forecast.csv'\n"
          ]
        }
      ]
    },
    {
      "cell_type": "code",
      "source": [
        "import pandas as pd\n",
        "\n",
        "# Load the datasets\n",
        "daily_sales = pd.read_csv('/content/drive/My Drive/SuperstoreProject/engineered_daily_sales.csv')\n",
        "forecast = pd.read_csv('/content/drive/My Drive/SuperstoreProject/sales_forecast.csv')\n",
        "combined_df = pd.read_csv('/content/drive/My Drive/SuperstoreProject/combined_sales_forecast.csv')\n",
        "\n",
        "# Inspect daily_sales\n",
        "print(\"Daily Sales Preview:\")\n",
        "print(daily_sales.head())\n",
        "print(\"\\nDaily Sales Info:\")\n",
        "print(daily_sales.info())\n",
        "print(\"\\nDaily Sales Row Count:\", len(daily_sales))\n",
        "print(\"\\nDaily Sales Order Date Missing Values:\", daily_sales['Order Date'].isnull().sum())\n",
        "\n",
        "# Inspect forecast\n",
        "print(\"\\nForecast Preview:\")\n",
        "print(forecast.head())\n",
        "print(\"\\nForecast Info:\")\n",
        "print(forecast.info())\n",
        "print(\"\\nForecast Row Count:\", len(forecast))\n",
        "print(\"\\nForecast ds Missing Values:\", forecast['ds'].isnull().sum())\n",
        "\n",
        "# Inspect combined_df\n",
        "print(\"\\nCombined Data Preview:\")\n",
        "print(combined_df.head())\n",
        "print(\"\\nCombined Data Info:\")\n",
        "print(combined_df.info())\n",
        "print(\"\\nCombined Data Row Count:\", len(combined_df))\n",
        "print(\"\\nCombined Data Type Value Counts:\")\n",
        "print(combined_df['Type'].value_counts())"
      ],
      "metadata": {
        "colab": {
          "base_uri": "https://localhost:8080/"
        },
        "id": "Y4y8Hjf8SW-A",
        "outputId": "da3cd955-a4ea-4b84-8625-c27acdd06dab"
      },
      "execution_count": null,
      "outputs": [
        {
          "output_type": "stream",
          "name": "stdout",
          "text": [
            "Daily Sales Preview:\n",
            "   Order Date     Sales  IsHoliday\n",
            "0  2015-01-03    16.448          0\n",
            "1  2015-01-04   288.060          0\n",
            "2  2015-01-05    19.536          0\n",
            "3  2015-01-06  4407.100          0\n",
            "4  2015-01-07    87.158          0\n",
            "\n",
            "Daily Sales Info:\n",
            "<class 'pandas.core.frame.DataFrame'>\n",
            "RangeIndex: 1230 entries, 0 to 1229\n",
            "Data columns (total 3 columns):\n",
            " #   Column      Non-Null Count  Dtype  \n",
            "---  ------      --------------  -----  \n",
            " 0   Order Date  1230 non-null   object \n",
            " 1   Sales       1230 non-null   float64\n",
            " 2   IsHoliday   1230 non-null   int64  \n",
            "dtypes: float64(1), int64(1), object(1)\n",
            "memory usage: 29.0+ KB\n",
            "None\n",
            "\n",
            "Daily Sales Row Count: 1230\n",
            "\n",
            "Daily Sales Order Date Missing Values: 0\n",
            "\n",
            "Forecast Preview:\n",
            "           ds       trend   yhat_lower   yhat_upper  trend_lower  trend_upper  \\\n",
            "0  2015-01-03  269.946738 -1511.775700  3766.108054   269.946738   269.946738   \n",
            "1  2015-01-04  270.227680 -2082.205862  3611.223800   270.227680   270.227680   \n",
            "2  2015-01-05  270.508621 -2137.259710  3596.415293   270.508621   270.508621   \n",
            "3  2015-01-06  270.789563 -1620.320168  3728.365272   270.789563   270.789563   \n",
            "4  2015-01-07  271.070505 -2518.871207  3274.651176   271.070505   271.070505   \n",
            "\n",
            "   IsHoliday  IsHoliday_lower  IsHoliday_upper  additive_terms  ...  \\\n",
            "0        0.0              0.0              0.0      733.527554  ...   \n",
            "1        0.0              0.0              0.0      482.179764  ...   \n",
            "2        0.0              0.0              0.0      371.618230  ...   \n",
            "3        0.0              0.0              0.0      702.709680  ...   \n",
            "4        0.0              0.0              0.0      225.321905  ...   \n",
            "\n",
            "       weekly  weekly_lower  weekly_upper      yearly  yearly_lower  \\\n",
            "0  359.034958    359.034958    359.034958 -639.569610   -639.569610   \n",
            "1  121.703052    121.703052    121.703052 -653.585494   -653.585494   \n",
            "2   23.898053     23.898053     23.898053 -666.342030   -666.342030   \n",
            "3  365.938787    365.938787    365.938787 -677.291313   -677.291313   \n",
            "4 -102.835261   -102.835261   -102.835261 -685.905040   -685.905040   \n",
            "\n",
            "   yearly_upper  multiplicative_terms  multiplicative_terms_lower  \\\n",
            "0   -639.569610                   0.0                         0.0   \n",
            "1   -653.585494                   0.0                         0.0   \n",
            "2   -666.342030                   0.0                         0.0   \n",
            "3   -677.291313                   0.0                         0.0   \n",
            "4   -685.905040                   0.0                         0.0   \n",
            "\n",
            "   multiplicative_terms_upper         yhat  \n",
            "0                         0.0  1003.474292  \n",
            "1                         0.0   752.407444  \n",
            "2                         0.0   642.126851  \n",
            "3                         0.0   973.499244  \n",
            "4                         0.0   496.392410  \n",
            "\n",
            "[5 rows x 28 columns]\n",
            "\n",
            "Forecast Info:\n",
            "<class 'pandas.core.frame.DataFrame'>\n",
            "RangeIndex: 1260 entries, 0 to 1259\n",
            "Data columns (total 28 columns):\n",
            " #   Column                           Non-Null Count  Dtype  \n",
            "---  ------                           --------------  -----  \n",
            " 0   ds                               1260 non-null   object \n",
            " 1   trend                            1260 non-null   float64\n",
            " 2   yhat_lower                       1260 non-null   float64\n",
            " 3   yhat_upper                       1260 non-null   float64\n",
            " 4   trend_lower                      1260 non-null   float64\n",
            " 5   trend_upper                      1260 non-null   float64\n",
            " 6   IsHoliday                        1260 non-null   float64\n",
            " 7   IsHoliday_lower                  1260 non-null   float64\n",
            " 8   IsHoliday_upper                  1260 non-null   float64\n",
            " 9   additive_terms                   1260 non-null   float64\n",
            " 10  additive_terms_lower             1260 non-null   float64\n",
            " 11  additive_terms_upper             1260 non-null   float64\n",
            " 12  daily                            1260 non-null   float64\n",
            " 13  daily_lower                      1260 non-null   float64\n",
            " 14  daily_upper                      1260 non-null   float64\n",
            " 15  extra_regressors_additive        1260 non-null   float64\n",
            " 16  extra_regressors_additive_lower  1260 non-null   float64\n",
            " 17  extra_regressors_additive_upper  1260 non-null   float64\n",
            " 18  weekly                           1260 non-null   float64\n",
            " 19  weekly_lower                     1260 non-null   float64\n",
            " 20  weekly_upper                     1260 non-null   float64\n",
            " 21  yearly                           1260 non-null   float64\n",
            " 22  yearly_lower                     1260 non-null   float64\n",
            " 23  yearly_upper                     1260 non-null   float64\n",
            " 24  multiplicative_terms             1260 non-null   float64\n",
            " 25  multiplicative_terms_lower       1260 non-null   float64\n",
            " 26  multiplicative_terms_upper       1260 non-null   float64\n",
            " 27  yhat                             1260 non-null   float64\n",
            "dtypes: float64(27), object(1)\n",
            "memory usage: 275.8+ KB\n",
            "None\n",
            "\n",
            "Forecast Row Count: 1260\n",
            "\n",
            "Forecast ds Missing Values: 0\n",
            "\n",
            "Combined Data Preview:\n",
            "   Order Date  Forecasted Sales        Type  yhat_lower  yhat_upper  \\\n",
            "0  2015-01-03            16.448  Historical         NaN         NaN   \n",
            "1  2015-01-04           288.060  Historical         NaN         NaN   \n",
            "2  2015-01-05            19.536  Historical         NaN         NaN   \n",
            "3  2015-01-06          4407.100  Historical         NaN         NaN   \n",
            "4  2015-01-07            87.158  Historical         NaN         NaN   \n",
            "\n",
            "   Lower Bound  Upper Bound  \n",
            "0          0.0          0.0  \n",
            "1          0.0          0.0  \n",
            "2          0.0          0.0  \n",
            "3          0.0          0.0  \n",
            "4          0.0          0.0  \n",
            "\n",
            "Combined Data Info:\n",
            "<class 'pandas.core.frame.DataFrame'>\n",
            "RangeIndex: 2490 entries, 0 to 2489\n",
            "Data columns (total 7 columns):\n",
            " #   Column            Non-Null Count  Dtype  \n",
            "---  ------            --------------  -----  \n",
            " 0   Order Date        2490 non-null   object \n",
            " 1   Forecasted Sales  2490 non-null   float64\n",
            " 2   Type              2490 non-null   object \n",
            " 3   yhat_lower        1260 non-null   float64\n",
            " 4   yhat_upper        1260 non-null   float64\n",
            " 5   Lower Bound       2490 non-null   float64\n",
            " 6   Upper Bound       2490 non-null   float64\n",
            "dtypes: float64(5), object(2)\n",
            "memory usage: 136.3+ KB\n",
            "None\n",
            "\n",
            "Combined Data Row Count: 2490\n",
            "\n",
            "Combined Data Type Value Counts:\n",
            "Type\n",
            "Forecast      1260\n",
            "Historical    1230\n",
            "Name: count, dtype: int64\n"
          ]
        }
      ]
    },
    {
      "cell_type": "code",
      "source": [
        "import pandas as pd\n",
        "\n",
        "# Load the datasets\n",
        "daily_sales = pd.read_csv('/content/drive/My Drive/SuperstoreProject/engineered_daily_sales.csv')\n",
        "forecast = pd.read_csv('/content/drive/My Drive/SuperstoreProject/sales_forecast.csv')\n",
        "combined_df = pd.read_csv('/content/drive/My Drive/SuperstoreProject/combined_sales_forecast.csv')\n",
        "\n",
        "# Inspect daily_sales\n",
        "print(\"Daily Sales Preview:\")\n",
        "print(daily_sales.head())\n",
        "print(\"\\nDaily Sales Info:\")\n",
        "print(daily_sales.info())\n",
        "print(\"\\nDaily Sales Row Count:\", len(daily_sales))\n",
        "print(\"\\nDaily Sales Order Date Missing Values:\", daily_sales['Order Date'].isnull().sum())\n",
        "\n",
        "# Inspect forecast\n",
        "print(\"\\nForecast Preview:\")\n",
        "print(forecast.head())\n",
        "print(\"\\nForecast Info:\")\n",
        "print(forecast.info())\n",
        "print(\"\\nForecast Row Count:\", len(forecast))\n",
        "print(\"\\nForecast ds Missing Values:\", forecast['ds'].isnull().sum())\n",
        "\n",
        "# Inspect intermediate subsets (re-run the combination logic here)\n",
        "daily_sales_subset = daily_sales[['Order Date', 'Sales']].rename(columns={'Sales': 'Forecasted Sales'})\n",
        "daily_sales_subset['Type'] = 'Historical'\n",
        "\n",
        "forecast_subset = forecast[['ds', 'yhat', 'yhat_lower', 'yhat_upper']].rename(columns={'ds': 'Order Date', 'yhat': 'Forecasted Sales'})\n",
        "forecast_subset['Type'] = 'Forecast'\n",
        "\n",
        "print(\"\\nDaily Sales Subset Preview:\")\n",
        "print(daily_sales_subset.head())\n",
        "print(\"\\nDaily Sales Subset Info:\")\n",
        "print(daily_sales_subset.info())\n",
        "print(\"\\nDaily Sales Subset Row Count:\", len(daily_sales_subset))\n",
        "print(\"\\nDaily Sales Subset Type Value Counts:\")\n",
        "print(daily_sales_subset['Type'].value_counts())\n",
        "\n",
        "print(\"\\nForecast Subset Preview:\")\n",
        "print(forecast_subset.head())\n",
        "print(\"\\nForecast Subset Info:\")\n",
        "print(forecast_subset.info())\n",
        "print(\"\\nForecast Subset Row Count:\", len(forecast_subset))\n",
        "print(\"\\nForecast Subset Type Value Counts:\")\n",
        "print(forecast_subset['Type'].value_counts())\n",
        "\n",
        "# Inspect combined_df\n",
        "print(\"\\nCombined Data Preview:\")\n",
        "print(combined_df.head())\n",
        "print(\"\\nCombined Data Info:\")\n",
        "print(combined_df.info())\n",
        "print(\"\\nCombined Data Row Count:\", len(combined_df))\n",
        "print(\"\\nCombined Data Type Value Counts:\")\n",
        "print(combined_df['Type'].value_counts())"
      ],
      "metadata": {
        "colab": {
          "base_uri": "https://localhost:8080/"
        },
        "id": "8dJGPBuWSsw4",
        "outputId": "d35e433f-d7c4-46b7-d7dd-f53a498a451c"
      },
      "execution_count": null,
      "outputs": [
        {
          "output_type": "stream",
          "name": "stdout",
          "text": [
            "Daily Sales Preview:\n",
            "   Order Date     Sales  IsHoliday\n",
            "0  2015-01-03    16.448          0\n",
            "1  2015-01-04   288.060          0\n",
            "2  2015-01-05    19.536          0\n",
            "3  2015-01-06  4407.100          0\n",
            "4  2015-01-07    87.158          0\n",
            "\n",
            "Daily Sales Info:\n",
            "<class 'pandas.core.frame.DataFrame'>\n",
            "RangeIndex: 1230 entries, 0 to 1229\n",
            "Data columns (total 3 columns):\n",
            " #   Column      Non-Null Count  Dtype  \n",
            "---  ------      --------------  -----  \n",
            " 0   Order Date  1230 non-null   object \n",
            " 1   Sales       1230 non-null   float64\n",
            " 2   IsHoliday   1230 non-null   int64  \n",
            "dtypes: float64(1), int64(1), object(1)\n",
            "memory usage: 29.0+ KB\n",
            "None\n",
            "\n",
            "Daily Sales Row Count: 1230\n",
            "\n",
            "Daily Sales Order Date Missing Values: 0\n",
            "\n",
            "Forecast Preview:\n",
            "           ds       trend   yhat_lower   yhat_upper  trend_lower  trend_upper  \\\n",
            "0  2015-01-03  269.946738 -1511.775700  3766.108054   269.946738   269.946738   \n",
            "1  2015-01-04  270.227680 -2082.205862  3611.223800   270.227680   270.227680   \n",
            "2  2015-01-05  270.508621 -2137.259710  3596.415293   270.508621   270.508621   \n",
            "3  2015-01-06  270.789563 -1620.320168  3728.365272   270.789563   270.789563   \n",
            "4  2015-01-07  271.070505 -2518.871207  3274.651176   271.070505   271.070505   \n",
            "\n",
            "   IsHoliday  IsHoliday_lower  IsHoliday_upper  additive_terms  ...  \\\n",
            "0        0.0              0.0              0.0      733.527554  ...   \n",
            "1        0.0              0.0              0.0      482.179764  ...   \n",
            "2        0.0              0.0              0.0      371.618230  ...   \n",
            "3        0.0              0.0              0.0      702.709680  ...   \n",
            "4        0.0              0.0              0.0      225.321905  ...   \n",
            "\n",
            "       weekly  weekly_lower  weekly_upper      yearly  yearly_lower  \\\n",
            "0  359.034958    359.034958    359.034958 -639.569610   -639.569610   \n",
            "1  121.703052    121.703052    121.703052 -653.585494   -653.585494   \n",
            "2   23.898053     23.898053     23.898053 -666.342030   -666.342030   \n",
            "3  365.938787    365.938787    365.938787 -677.291313   -677.291313   \n",
            "4 -102.835261   -102.835261   -102.835261 -685.905040   -685.905040   \n",
            "\n",
            "   yearly_upper  multiplicative_terms  multiplicative_terms_lower  \\\n",
            "0   -639.569610                   0.0                         0.0   \n",
            "1   -653.585494                   0.0                         0.0   \n",
            "2   -666.342030                   0.0                         0.0   \n",
            "3   -677.291313                   0.0                         0.0   \n",
            "4   -685.905040                   0.0                         0.0   \n",
            "\n",
            "   multiplicative_terms_upper         yhat  \n",
            "0                         0.0  1003.474292  \n",
            "1                         0.0   752.407444  \n",
            "2                         0.0   642.126851  \n",
            "3                         0.0   973.499244  \n",
            "4                         0.0   496.392410  \n",
            "\n",
            "[5 rows x 28 columns]\n",
            "\n",
            "Forecast Info:\n",
            "<class 'pandas.core.frame.DataFrame'>\n",
            "RangeIndex: 1260 entries, 0 to 1259\n",
            "Data columns (total 28 columns):\n",
            " #   Column                           Non-Null Count  Dtype  \n",
            "---  ------                           --------------  -----  \n",
            " 0   ds                               1260 non-null   object \n",
            " 1   trend                            1260 non-null   float64\n",
            " 2   yhat_lower                       1260 non-null   float64\n",
            " 3   yhat_upper                       1260 non-null   float64\n",
            " 4   trend_lower                      1260 non-null   float64\n",
            " 5   trend_upper                      1260 non-null   float64\n",
            " 6   IsHoliday                        1260 non-null   float64\n",
            " 7   IsHoliday_lower                  1260 non-null   float64\n",
            " 8   IsHoliday_upper                  1260 non-null   float64\n",
            " 9   additive_terms                   1260 non-null   float64\n",
            " 10  additive_terms_lower             1260 non-null   float64\n",
            " 11  additive_terms_upper             1260 non-null   float64\n",
            " 12  daily                            1260 non-null   float64\n",
            " 13  daily_lower                      1260 non-null   float64\n",
            " 14  daily_upper                      1260 non-null   float64\n",
            " 15  extra_regressors_additive        1260 non-null   float64\n",
            " 16  extra_regressors_additive_lower  1260 non-null   float64\n",
            " 17  extra_regressors_additive_upper  1260 non-null   float64\n",
            " 18  weekly                           1260 non-null   float64\n",
            " 19  weekly_lower                     1260 non-null   float64\n",
            " 20  weekly_upper                     1260 non-null   float64\n",
            " 21  yearly                           1260 non-null   float64\n",
            " 22  yearly_lower                     1260 non-null   float64\n",
            " 23  yearly_upper                     1260 non-null   float64\n",
            " 24  multiplicative_terms             1260 non-null   float64\n",
            " 25  multiplicative_terms_lower       1260 non-null   float64\n",
            " 26  multiplicative_terms_upper       1260 non-null   float64\n",
            " 27  yhat                             1260 non-null   float64\n",
            "dtypes: float64(27), object(1)\n",
            "memory usage: 275.8+ KB\n",
            "None\n",
            "\n",
            "Forecast Row Count: 1260\n",
            "\n",
            "Forecast ds Missing Values: 0\n",
            "\n",
            "Daily Sales Subset Preview:\n",
            "   Order Date  Forecasted Sales        Type\n",
            "0  2015-01-03            16.448  Historical\n",
            "1  2015-01-04           288.060  Historical\n",
            "2  2015-01-05            19.536  Historical\n",
            "3  2015-01-06          4407.100  Historical\n",
            "4  2015-01-07            87.158  Historical\n",
            "\n",
            "Daily Sales Subset Info:\n",
            "<class 'pandas.core.frame.DataFrame'>\n",
            "RangeIndex: 1230 entries, 0 to 1229\n",
            "Data columns (total 3 columns):\n",
            " #   Column            Non-Null Count  Dtype  \n",
            "---  ------            --------------  -----  \n",
            " 0   Order Date        1230 non-null   object \n",
            " 1   Forecasted Sales  1230 non-null   float64\n",
            " 2   Type              1230 non-null   object \n",
            "dtypes: float64(1), object(2)\n",
            "memory usage: 29.0+ KB\n",
            "None\n",
            "\n",
            "Daily Sales Subset Row Count: 1230\n",
            "\n",
            "Daily Sales Subset Type Value Counts:\n",
            "Type\n",
            "Historical    1230\n",
            "Name: count, dtype: int64\n",
            "\n",
            "Forecast Subset Preview:\n",
            "   Order Date  Forecasted Sales   yhat_lower   yhat_upper      Type\n",
            "0  2015-01-03       1003.474292 -1511.775700  3766.108054  Forecast\n",
            "1  2015-01-04        752.407444 -2082.205862  3611.223800  Forecast\n",
            "2  2015-01-05        642.126851 -2137.259710  3596.415293  Forecast\n",
            "3  2015-01-06        973.499244 -1620.320168  3728.365272  Forecast\n",
            "4  2015-01-07        496.392410 -2518.871207  3274.651176  Forecast\n",
            "\n",
            "Forecast Subset Info:\n",
            "<class 'pandas.core.frame.DataFrame'>\n",
            "RangeIndex: 1260 entries, 0 to 1259\n",
            "Data columns (total 5 columns):\n",
            " #   Column            Non-Null Count  Dtype  \n",
            "---  ------            --------------  -----  \n",
            " 0   Order Date        1260 non-null   object \n",
            " 1   Forecasted Sales  1260 non-null   float64\n",
            " 2   yhat_lower        1260 non-null   float64\n",
            " 3   yhat_upper        1260 non-null   float64\n",
            " 4   Type              1260 non-null   object \n",
            "dtypes: float64(3), object(2)\n",
            "memory usage: 49.3+ KB\n",
            "None\n",
            "\n",
            "Forecast Subset Row Count: 1260\n",
            "\n",
            "Forecast Subset Type Value Counts:\n",
            "Type\n",
            "Forecast    1260\n",
            "Name: count, dtype: int64\n",
            "\n",
            "Combined Data Preview:\n",
            "   Order Date  Forecasted Sales        Type  yhat_lower  yhat_upper  \\\n",
            "0  2015-01-03            16.448  Historical         NaN         NaN   \n",
            "1  2015-01-04           288.060  Historical         NaN         NaN   \n",
            "2  2015-01-05            19.536  Historical         NaN         NaN   \n",
            "3  2015-01-06          4407.100  Historical         NaN         NaN   \n",
            "4  2015-01-07            87.158  Historical         NaN         NaN   \n",
            "\n",
            "   Lower Bound  Upper Bound  \n",
            "0          0.0          0.0  \n",
            "1          0.0          0.0  \n",
            "2          0.0          0.0  \n",
            "3          0.0          0.0  \n",
            "4          0.0          0.0  \n",
            "\n",
            "Combined Data Info:\n",
            "<class 'pandas.core.frame.DataFrame'>\n",
            "RangeIndex: 2490 entries, 0 to 2489\n",
            "Data columns (total 7 columns):\n",
            " #   Column            Non-Null Count  Dtype  \n",
            "---  ------            --------------  -----  \n",
            " 0   Order Date        2490 non-null   object \n",
            " 1   Forecasted Sales  2490 non-null   float64\n",
            " 2   Type              2490 non-null   object \n",
            " 3   yhat_lower        1260 non-null   float64\n",
            " 4   yhat_upper        1260 non-null   float64\n",
            " 5   Lower Bound       2490 non-null   float64\n",
            " 6   Upper Bound       2490 non-null   float64\n",
            "dtypes: float64(5), object(2)\n",
            "memory usage: 136.3+ KB\n",
            "None\n",
            "\n",
            "Combined Data Row Count: 2490\n",
            "\n",
            "Combined Data Type Value Counts:\n",
            "Type\n",
            "Forecast      1260\n",
            "Historical    1230\n",
            "Name: count, dtype: int64\n"
          ]
        }
      ]
    },
    {
      "cell_type": "code",
      "source": [],
      "metadata": {
        "id": "sKDdJT6kStVy"
      },
      "execution_count": null,
      "outputs": []
    }
  ]
}